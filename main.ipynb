{
 "cells": [
  {
   "cell_type": "markdown",
   "metadata": {
    "id": "D7aIwqamvyIG"
   },
   "source": [
    "# Adaption to new classes\n",
    "project 7 by Guanzhao Wang, Haochen Wu, Yukai Wang"
   ]
  },
  {
   "cell_type": "markdown",
   "metadata": {
    "id": "yCFoPi-QvyII"
   },
   "source": [
    "### Abstact outline:\n",
    "\n",
    "In this project, the goal is to find a way conbines unsupervised and supervised method. The baselines are the methods to train the model with supervisored categories. The unsupervised section follows. The primary goal is to train a model that is able to classificate all the categories (labelled and unlabelled).\n",
    "\n",
    "A classification model is trained under labelled categories on Fashion-MNIST dataset. Then, new categories are added without labels. There are several unsupervised clustering methods implemented and compared. They are Kmeans, Kmeans with PCA, Kmeans with Auto Encoder,Gaussian Mixture, Gaussian Mixture with PCA and Gaussian Mixture with Auto Encoder. these unlabelled categories will be labelled by the clustering methods and concatenate with other categories. The classification model will be trained again on the full dataset which contains the pre-labelled categories and new categories just labelled by the unsupervised methods. The result of the classification is drawn between all eight methods and an conclusion is given at the end."
   ]
  },
  {
   "cell_type": "markdown",
   "metadata": {
    "id": "FaUhgDsOvyII"
   },
   "source": [
    "### Teammates:\n",
    "- Guanzhao Wang:\n",
    "\n",
    "- Haochen Wu:\n",
    "\n",
    "- Yukai Wang:"
   ]
  },
  {
   "cell_type": "markdown",
   "metadata": {},
   "source": [
    "### Library\n",
    "Several library functions are implemented. They are imported in the front of the next code block\n",
    "pip install lightning-bolts"
   ]
  },
  {
   "cell_type": "code",
   "execution_count": 3,
   "metadata": {
    "id": "TqFWzIGLvyIJ"
   },
   "outputs": [],
   "source": [
    "from mylibs.dataloader import getTrainValidateLoaders, getTestLoaders\n",
    "from mylibs.train import train\n",
    "from mylibs.eval import validate\n",
    "from mylibs.model import Net, CustomFashionResNet\n",
    "from mylibs.loss import loss_function\n",
    "from mylibs.report import report_epoch_summary, report_summary\n",
    "from mylibs.save import save, load\n",
    "from mylibs.transform import transform"
   ]
  },
  {
   "cell_type": "code",
   "execution_count": null,
   "metadata": {},
   "outputs": [],
   "source": [
    "import torch\n",
    "from torchvision import transforms\n",
    "import os"
   ]
  },
  {
   "cell_type": "code",
   "execution_count": 11,
   "metadata": {
    "id": "XPjNeNZXvyIK"
   },
   "outputs": [],
   "source": [
    "USE_GPU = True\n",
    "BATCH_SIZE = 64\n",
    "EPOCH = 5\n",
    "NUM_WORKERS = 2\n",
    "K = 7"
   ]
  },
  {
   "cell_type": "code",
   "execution_count": 12,
   "metadata": {
    "id": "Py5n0DaWvyIK"
   },
   "outputs": [],
   "source": [
    "device = torch.device(\"cuda\" if USE_GPU else \"cpu\")\n",
    "\n",
    "\n",
    "\n",
    "mode_description = {0: \"clustering: kmeans\",\n",
    "                    1: \"clustering: kmeans with PCA\",\n",
    "                    2: \"clustering: kmeans with Auto Encoder\",\n",
    "                    3: \"clustering: Gaussian Mixture\",\n",
    "                    4: \"clustering: Gaussian Mixture with PCA\",\n",
    "                    5: \"clustering: Gaussian Mixture with Auto Encoder\",\n",
    "                    6: \"use only labeled data\",\n",
    "                    7: \"use full FasionMNIST data\",\n",
    "                   }\n",
    "\n",
    "mode_description_short = {0: \"Kmeans\",\n",
    "                          1: \"Kmeans with PCA\",\n",
    "                          2: \"Kmeans with Auto Encoder\",\n",
    "                          3: \"Gaussian Mixture\",\n",
    "                          4: \"Gaussian Mixture with PCA\",\n",
    "                          5: \"Gaussian Mixture with Auto Encoder\",\n",
    "                          6: \"Labeled data only\",\n",
    "                          7: \"Full FasionMNIST\",\n",
    "                         }\n",
    "\n",
    "mode_metrics = {}"
   ]
  },
  {
   "cell_type": "code",
   "execution_count": 13,
   "metadata": {
    "id": "qHVULbqovyIL"
   },
   "outputs": [],
   "source": [
    "def whole_flow(mode, useResnet):\n",
    "    print(f\"Getting train and validate dataloaders for mode {mode}: {mode_description[mode]}\")\n",
    "    train_val_loaders = getTrainValidateLoaders(include_labels=range(K), transform=transform, batch_size=BATCH_SIZE, split=0.9, num_workers=NUM_WORKERS, mode=mode, USE_GPU=USE_GPU)\n",
    "    if useResnet:\n",
    "        model = CustomFashionResNet(color_scale = 1, num_classes = 10).to(device)\n",
    "    else:\n",
    "        model = Net().to(device)\n",
    "    optimizer = torch.optim.Adadelta(model.parameters(), lr=0.01)\n",
    "    eval_metrics = []\n",
    "\n",
    "    model_name = \"ResNet\" if useResnet else \"Net\"\n",
    "    checkpoint_path = f\"./checkpoint/mode_{mode}/{model_name}\"\n",
    "    os.makedirs(checkpoint_path, exist_ok=True)\n",
    "    \n",
    "    print(f\"Start Training... {model_name}\")\n",
    "    # scheduler = StepLR(optimizer, step_size=1, gamma=args.gamma)\n",
    "    for epoch in range(1, EPOCH+1):\n",
    "        eval_metric = train(train_val_loaders, model, loss_function, optimizer, USE_GPU, f\"{checkpoint_path}/epoch_{epoch}.pt\")\n",
    "        eval_metrics.append(eval_metric)\n",
    "        print(f\"Epoch: {epoch}\")\n",
    "        print(f\"\\tTrain      - Loss: {eval_metric['train']['loss']:.4f} Accuracy: {eval_metric['train']['acc']:.4f} F1_score: {eval_metric['train']['f1']:.4f}\")\n",
    "        print(f\"\\tValidation - Loss: {eval_metric['val']['loss']:.4f} Accuracy: {eval_metric['val']['acc']:.4f} F1_score: {eval_metric['val']['f1']:.4f}\")\n",
    "\n",
    "    report_epoch_summary(eval_metrics)\n",
    "    \n",
    "    all_val_f1 = [x['val']['f1'] for x in eval_metrics]\n",
    "    best_epoch = all_val_f1.index(max(all_val_f1)) + 1\n",
    "    print(f\"Loading model at epoch {best_epoch} for best validation f1\")\n",
    "    checkpoint = torch.load(f\"{checkpoint_path}/epoch_{epoch}.pt\")\n",
    "    model.load_state_dict(checkpoint['model_state_dict'])\n",
    "    optimizer.load_state_dict(checkpoint['optimizer_state_dict'])\n",
    "    \n",
    "    print(\"Preparing test loaders\")\n",
    "    labeled_test_loader, unlabeled_test_loader, test_loader = getTestLoaders(include_labels=range(K), transform=transform, batch_size=BATCH_SIZE, num_workers=NUM_WORKERS, USE_GPU=USE_GPU)\n",
    "    \n",
    "    model.eval()\n",
    "    eval_metric = validate(labeled_test_loader, model, loss_function, USE_GPU)\n",
    "    print(f\"Result on labelled test set  : Loss: {eval_metric['loss']:.4f} Accuracy: {eval_metric['acc']:.4f} F1_score: {eval_metric['f1']:.4f}\")\n",
    "\n",
    "    eval_metric = validate(unlabeled_test_loader, model, loss_function, USE_GPU)\n",
    "    print(f\"Result on unlabelled test set: Loss: {eval_metric['loss']:.4f} Accuracy: {eval_metric['acc']:.4f} F1_score: {eval_metric['f1']:.4f}\")\n",
    "\n",
    "    eval_metric = validate(test_loader, model, loss_function, USE_GPU)\n",
    "    print(f\"Result on full test set      : Loss: {eval_metric['loss']:.4f} Accuracy: {eval_metric['acc']:.4f} F1_score: {eval_metric['f1']:.4f}\")\n",
    "    \n",
    "    return eval_metrics"
   ]
  },
  {
   "cell_type": "markdown",
   "metadata": {
    "id": "4GzHq1xDvyIN"
   },
   "source": [
    "## Baseline #1, use only first K-class labelled data to train"
   ]
  },
  {
   "cell_type": "code",
   "execution_count": 14,
   "metadata": {
    "colab": {
     "base_uri": "https://localhost:8080/",
     "height": 1000,
     "referenced_widgets": [
      "7b4e768a117744d09f8fcf0caa50ac8c",
      "0e2752d5a76c47b7a66f44e8e064c752",
      "e5affaf1eede47c9b8de3c1103b40f9e",
      "b3edcbd08dac4b809a05f8bd9c8b5801",
      "3415d767baef40e582772691b0302f6a",
      "fa114246d27140079ca97c3308dfc8de",
      "93a13424eae64797a1d1aace3813f707",
      "8e620c47a93b4ce1aa19277f6374c564",
      "9d12a278c00d4c778fcfbcd88c23a5ef",
      "6e0191b184a54f0387cc1b6a459603fa",
      "92c98313524044a68495fba8ebaa8954",
      "f3f5e26dc60d42359c472dd67094b515",
      "421e8b0177144a49865bd0de3f348721",
      "eb960686f4234f798592135cdefd6e39",
      "ec2c281e90234b289c53913d2d267ef0",
      "af3e55b572ac4309a17d573c1b6434c5",
      "a87353d45bdf4a10a8d12185daa986e9",
      "9e8edb80089543f5a1631f9ab87b02b6",
      "817d7de736524859901d23fdfe70f15b",
      "eaa7564267894094a4df642b3a449a6b",
      "91ead993d4484e5f846925c56fe1e887",
      "5fe2bc2fbd704e64b0363931a7d80180",
      "0ac0fa15251046b7af01b56f7d542cb5",
      "d0a99c8a603c4274a71881b184678da2",
      "37ef8ba5f50f49cbbf2035d23a1057c8",
      "5c682e6e2cf64f11b8320a61713d619d",
      "ff7c61e5360b4992ba25cdae8de7ee58",
      "72b18c73d7744e359f2d8469a24a011a",
      "5d7511348f71431e8e4a312bc14b1d64",
      "7b1e0452d4984bc3a330e2b9f846049b",
      "d8feac653a364dcca78397a0085468b1",
      "fd3478e172c44a83acef6cb1e1ec9c9d",
      "755aec4b7d80447d9602c0b81a586917",
      "2f07622b28ab43958a5c8bb18f7ca660",
      "bd0b44fd41d4404da197fbbc0c4defe6",
      "c99c7988846845ceb25f8c350a26c3e6",
      "275260907d474398a03443c7bec029f8",
      "3b9c1ca8ba044a868bc8da6faa5d2083",
      "0524c9314f1f4633b2ee8cbbc8f3bf71",
      "0232fb3143754b5597f7163538471b74",
      "5c7cab0f189b45a2a60db0e5317f0b10",
      "1b026d12dc9c472884d74b5bb4bc5a5c",
      "9168e946050540598d4fd826b7a08dec",
      "e1c6baa4c33d4c27a229c361d8ab9a82"
     ]
    },
    "collapsed": true,
    "id": "em4Fz_acvyIN",
    "outputId": "0c488645-4841-4c6d-f3bb-f2c742a70b9a"
   },
   "outputs": [
    {
     "name": "stdout",
     "output_type": "stream",
     "text": [
      "Getting train and validate dataloaders for mode 6: use only labeled data\n",
      "Start Training... Net\n",
      "Epoch: 1\n",
      "\tTrain      - Loss: 0.6028 Accuracy: 0.7905 F1_score: 0.7881\n",
      "\tValidation - Loss: 0.4575 Accuracy: 0.8248 F1_score: 0.8185\n",
      "Epoch: 2\n",
      "\tTrain      - Loss: 0.4155 Accuracy: 0.8492 F1_score: 0.8482\n",
      "\tValidation - Loss: 0.4109 Accuracy: 0.8510 F1_score: 0.8517\n",
      "Epoch: 3\n",
      "\tTrain      - Loss: 0.3726 Accuracy: 0.8650 F1_score: 0.8642\n",
      "\tValidation - Loss: 0.3801 Accuracy: 0.8586 F1_score: 0.8592\n",
      "Epoch: 4\n",
      "\tTrain      - Loss: 0.3446 Accuracy: 0.8770 F1_score: 0.8763\n",
      "\tValidation - Loss: 0.3611 Accuracy: 0.8662 F1_score: 0.8656\n",
      "Epoch: 5\n",
      "\tTrain      - Loss: 0.3241 Accuracy: 0.8844 F1_score: 0.8839\n",
      "\tValidation - Loss: 0.3546 Accuracy: 0.8681 F1_score: 0.8649\n"
     ]
    },
    {
     "data": {
      "text/plain": [
       "<Figure size 432x288 with 0 Axes>"
      ]
     },
     "metadata": {},
     "output_type": "display_data"
    },
    {
     "data": {
      "image/png": "[encoded data removed]",
      "text/plain": [
       "<Figure size 1152x576 with 3 Axes>"
      ]
     },
     "metadata": {
      "needs_background": "light"
     },
     "output_type": "display_data"
    },
    {
     "name": "stdout",
     "output_type": "stream",
     "text": [
      "Loading model at epoch 4 for best validation f1\n",
      "Preparing test loaders\n",
      "Result on labelled test set  : Loss: 0.3807 Accuracy: 0.8581 F1_score: 0.8550\n",
      "Result on unlabelled test set: Loss: 9.9499 Accuracy: 0.0000 F1_score: 0.0000\n",
      "Result on full test set      : Loss: 3.2542 Accuracy: 0.6007 F1_score: 0.5159\n"
     ]
    }
   ],
   "source": [
    "mode_metric = whole_flow(6, False)\n",
    "mode_metrics[6] = mode_metric"
   ]
  },
  {
   "cell_type": "markdown",
   "metadata": {
    "id": "qanzX3pwvyIP"
   },
   "source": [
    "## Baseline #2, use full Fashion-MNIST dataset to train"
   ]
  },
  {
   "cell_type": "code",
   "execution_count": null,
   "metadata": {
    "colab": {
     "base_uri": "https://localhost:8080/",
     "height": 1000
    },
    "id": "_dw1frCzvyIP",
    "outputId": "7c75e5f8-636d-42e2-9f9f-779eeb268b04",
    "scrolled": false
   },
   "outputs": [],
   "source": [
    "mode_metric = whole_flow(7, False)\n",
    "mode_metrics[7] = mode_metric"
   ]
  },
  {
   "cell_type": "markdown",
   "metadata": {
    "id": "DMlfXz25vyIQ"
   },
   "source": [
    "# Label new categories by clustering\n",
    "\n",
    "- label the dataset under different clustering methods\n",
    "- compare acuracy on the test set"
   ]
  },
  {
   "cell_type": "markdown",
   "metadata": {
    "id": "XfPRFXApvyIQ"
   },
   "source": [
    "## Approach #1, use KMeans to compute label for unlabelled data"
   ]
  },
  {
   "cell_type": "code",
   "execution_count": null,
   "metadata": {
    "scrolled": false
   },
   "outputs": [],
   "source": [
    "mode_metric = whole_flow(0, False)\n",
    "mode_metrics[0] = mode_metric"
   ]
  },
  {
   "cell_type": "markdown",
   "metadata": {
    "id": "6RPnApO5vyIQ"
   },
   "source": [
    "## Approach #2, use KMeans with PCA to compute label for unlabelled data"
   ]
  },
  {
   "cell_type": "code",
   "execution_count": null,
   "metadata": {
    "colab": {
     "base_uri": "https://localhost:8080/",
     "height": 1000
    },
    "id": "fuChhiqlvyIQ",
    "outputId": "e753e941-1324-40e7-b81a-415b240dad33",
    "scrolled": false
   },
   "outputs": [],
   "source": [
    "mode_metric = whole_flow(1, False)\n",
    "mode_metrics[1] = mode_metric"
   ]
  },
  {
   "cell_type": "markdown",
   "metadata": {
    "id": "ogKtwtzfvyIR"
   },
   "source": [
    "## Approach #3, use KMeans with Auto Encoder to compute label for unlabelled data"
   ]
  },
  {
   "cell_type": "code",
   "execution_count": null,
   "metadata": {
    "colab": {
     "base_uri": "https://localhost:8080/",
     "height": 416
    },
    "id": "Y47I5HrVwGRN",
    "outputId": "5ff6e971-1ec5-49e1-a15c-611607240e69"
   },
   "outputs": [],
   "source": [
    "mode_metric = whole_flow(2, False)\n",
    "mode_metrics[2] = mode_metric"
   ]
  },
  {
   "cell_type": "markdown",
   "metadata": {
    "id": "3cM0jagPvyIR"
   },
   "source": [
    "## Approach #4, use Gaussian Mixture to compute label for unlabelled data"
   ]
  },
  {
   "cell_type": "code",
   "execution_count": null,
   "metadata": {
    "scrolled": false
   },
   "outputs": [],
   "source": [
    "mode_metric = whole_flow(3, False)\n",
    "mode_metrics[3] = mode_metric"
   ]
  },
  {
   "cell_type": "markdown",
   "metadata": {
    "id": "rIo_WbOxvyIR"
   },
   "source": [
    "## Approach #5, use Gaussian Mixture with PCA to compute label for unlabelled data"
   ]
  },
  {
   "cell_type": "code",
   "execution_count": null,
   "metadata": {
    "scrolled": false
   },
   "outputs": [],
   "source": [
    "mode_metric = whole_flow(4, False)\n",
    "mode_metrics[4] = mode_metric"
   ]
  },
  {
   "cell_type": "markdown",
   "metadata": {
    "id": "MHyuEiAYvyIS"
   },
   "source": [
    "## Approach #6, use Gaussian Mixture with Auto Encoder to compute label for unlabelled data"
   ]
  },
  {
   "cell_type": "code",
   "execution_count": null,
   "metadata": {},
   "outputs": [],
   "source": [
    "mode_metric = whole_flow(5, False)\n",
    "mode_metrics[5] = mode_metric"
   ]
  },
  {
   "cell_type": "code",
   "execution_count": null,
   "metadata": {
    "colab": {
     "base_uri": "https://localhost:8080/",
     "height": 530
    },
    "id": "GR0KfiIavyIS",
    "outputId": "849158e1-c411-4ccb-f0e4-fd09dfce4cd1"
   },
   "outputs": [],
   "source": [
    "report_summary(mode_metrics, mode_description_short)"
   ]
  },
  {
   "cell_type": "markdown",
   "metadata": {
    "id": "L7zPyScVvyIS"
   },
   "source": [
    "## Conclusion"
   ]
  },
  {
   "cell_type": "markdown",
   "metadata": {
    "id": "oCg3GyKqvyIS"
   },
   "source": []
  }
 ],
 "metadata": {
  "accelerator": "GPU",
  "colab": {
   "name": "main.ipynb",
   "provenance": []
  },
  "interpreter": {
   "hash": "aee8b7b246df8f9039afb4144a1f6fd8d2ca17a180786b69acc140d282b71a49"
  },
  "kernelspec": {
   "display_name": "Python 3",
   "language": "python",
   "name": "python3"
  },
  "language_info": {
   "codemirror_mode": {
    "name": "ipython",
    "version": 3
   },
   "file_extension": ".py",
   "mimetype": "text/x-python",
   "name": "python",
   "nbconvert_exporter": "python",
   "pygments_lexer": "ipython3",
   "version": "3.8.8"
  },
  "widgets": {
   "application/vnd.jupyter.widget-state+json": {
    "0232fb3143754b5597f7163538471b74": {
     "model_module": "@jupyter-widgets/base",
     "model_module_version": "1.2.0",
     "model_name": "LayoutModel",
     "state": {
      "_model_module": "@jupyter-widgets/base",
      "_model_module_version": "1.2.0",
      "_model_name": "LayoutModel",
      "_view_count": null,
      "_view_module": "@jupyter-widgets/base",
      "_view_module_version": "1.2.0",
      "_view_name": "LayoutView",
      "align_content": null,
      "align_items": null,
      "align_self": null,
      "border": null,
      "bottom": null,
      "display": null,
      "flex": null,
      "flex_flow": null,
      "grid_area": null,
      "grid_auto_columns": null,
      "grid_auto_flow": null,
      "grid_auto_rows": null,
      "grid_column": null,
      "grid_gap": null,
      "grid_row": null,
      "grid_template_areas": null,
      "grid_template_columns": null,
      "grid_template_rows": null,
      "height": null,
      "justify_content": null,
      "justify_items": null,
      "left": null,
      "margin": null,
      "max_height": null,
      "max_width": null,
      "min_height": null,
      "min_width": null,
      "object_fit": null,
      "object_position": null,
      "order": null,
      "overflow": null,
      "overflow_x": null,
      "overflow_y": null,
      "padding": null,
      "right": null,
      "top": null,
      "visibility": null,
      "width": null
     }
    },
    "0524c9314f1f4633b2ee8cbbc8f3bf71": {
     "model_module": "@jupyter-widgets/controls",
     "model_module_version": "1.5.0",
     "model_name": "DescriptionStyleModel",
     "state": {
      "_model_module": "@jupyter-widgets/controls",
      "_model_module_version": "1.5.0",
      "_model_name": "DescriptionStyleModel",
      "_view_count": null,
      "_view_module": "@jupyter-widgets/base",
      "_view_module_version": "1.2.0",
      "_view_name": "StyleView",
      "description_width": ""
     }
    },
    "0ac0fa15251046b7af01b56f7d542cb5": {
     "model_module": "@jupyter-widgets/controls",
     "model_module_version": "1.5.0",
     "model_name": "HBoxModel",
     "state": {
      "_dom_classes": [],
      "_model_module": "@jupyter-widgets/controls",
      "_model_module_version": "1.5.0",
      "_model_name": "HBoxModel",
      "_view_count": null,
      "_view_module": "@jupyter-widgets/controls",
      "_view_module_version": "1.5.0",
      "_view_name": "HBoxView",
      "box_style": "",
      "children": [
       "IPY_MODEL_37ef8ba5f50f49cbbf2035d23a1057c8",
       "IPY_MODEL_5c682e6e2cf64f11b8320a61713d619d",
       "IPY_MODEL_ff7c61e5360b4992ba25cdae8de7ee58"
      ],
      "layout": "IPY_MODEL_d0a99c8a603c4274a71881b184678da2"
     }
    },
    "0e2752d5a76c47b7a66f44e8e064c752": {
     "model_module": "@jupyter-widgets/base",
     "model_module_version": "1.2.0",
     "model_name": "LayoutModel",
     "state": {
      "_model_module": "@jupyter-widgets/base",
      "_model_module_version": "1.2.0",
      "_model_name": "LayoutModel",
      "_view_count": null,
      "_view_module": "@jupyter-widgets/base",
      "_view_module_version": "1.2.0",
      "_view_name": "LayoutView",
      "align_content": null,
      "align_items": null,
      "align_self": null,
      "border": null,
      "bottom": null,
      "display": null,
      "flex": null,
      "flex_flow": null,
      "grid_area": null,
      "grid_auto_columns": null,
      "grid_auto_flow": null,
      "grid_auto_rows": null,
      "grid_column": null,
      "grid_gap": null,
      "grid_row": null,
      "grid_template_areas": null,
      "grid_template_columns": null,
      "grid_template_rows": null,
      "height": null,
      "justify_content": null,
      "justify_items": null,
      "left": null,
      "margin": null,
      "max_height": null,
      "max_width": null,
      "min_height": null,
      "min_width": null,
      "object_fit": null,
      "object_position": null,
      "order": null,
      "overflow": null,
      "overflow_x": null,
      "overflow_y": null,
      "padding": null,
      "right": null,
      "top": null,
      "visibility": null,
      "width": null
     }
    },
    "1b026d12dc9c472884d74b5bb4bc5a5c": {
     "model_module": "@jupyter-widgets/base",
     "model_module_version": "1.2.0",
     "model_name": "LayoutModel",
     "state": {
      "_model_module": "@jupyter-widgets/base",
      "_model_module_version": "1.2.0",
      "_model_name": "LayoutModel",
      "_view_count": null,
      "_view_module": "@jupyter-widgets/base",
      "_view_module_version": "1.2.0",
      "_view_name": "LayoutView",
      "align_content": null,
      "align_items": null,
      "align_self": null,
      "border": null,
      "bottom": null,
      "display": null,
      "flex": null,
      "flex_flow": null,
      "grid_area": null,
      "grid_auto_columns": null,
      "grid_auto_flow": null,
      "grid_auto_rows": null,
      "grid_column": null,
      "grid_gap": null,
      "grid_row": null,
      "grid_template_areas": null,
      "grid_template_columns": null,
      "grid_template_rows": null,
      "height": null,
      "justify_content": null,
      "justify_items": null,
      "left": null,
      "margin": null,
      "max_height": null,
      "max_width": null,
      "min_height": null,
      "min_width": null,
      "object_fit": null,
      "object_position": null,
      "order": null,
      "overflow": null,
      "overflow_x": null,
      "overflow_y": null,
      "padding": null,
      "right": null,
      "top": null,
      "visibility": null,
      "width": null
     }
    },
    "275260907d474398a03443c7bec029f8": {
     "model_module": "@jupyter-widgets/controls",
     "model_module_version": "1.5.0",
     "model_name": "FloatProgressModel",
     "state": {
      "_dom_classes": [],
      "_model_module": "@jupyter-widgets/controls",
      "_model_module_version": "1.5.0",
      "_model_name": "FloatProgressModel",
      "_view_count": null,
      "_view_module": "@jupyter-widgets/controls",
      "_view_module_version": "1.5.0",
      "_view_name": "ProgressView",
      "bar_style": "success",
      "description": "",
      "description_tooltip": null,
      "layout": "IPY_MODEL_1b026d12dc9c472884d74b5bb4bc5a5c",
      "max": 5148,
      "min": 0,
      "orientation": "horizontal",
      "style": "IPY_MODEL_5c7cab0f189b45a2a60db0e5317f0b10",
      "value": 5148
     }
    },
    "2f07622b28ab43958a5c8bb18f7ca660": {
     "model_module": "@jupyter-widgets/controls",
     "model_module_version": "1.5.0",
     "model_name": "HBoxModel",
     "state": {
      "_dom_classes": [],
      "_model_module": "@jupyter-widgets/controls",
      "_model_module_version": "1.5.0",
      "_model_name": "HBoxModel",
      "_view_count": null,
      "_view_module": "@jupyter-widgets/controls",
      "_view_module_version": "1.5.0",
      "_view_name": "HBoxView",
      "box_style": "",
      "children": [
       "IPY_MODEL_c99c7988846845ceb25f8c350a26c3e6",
       "IPY_MODEL_275260907d474398a03443c7bec029f8",
       "IPY_MODEL_3b9c1ca8ba044a868bc8da6faa5d2083"
      ],
      "layout": "IPY_MODEL_bd0b44fd41d4404da197fbbc0c4defe6"
     }
    },
    "3415d767baef40e582772691b0302f6a": {
     "model_module": "@jupyter-widgets/controls",
     "model_module_version": "1.5.0",
     "model_name": "HTMLModel",
     "state": {
      "_dom_classes": [],
      "_model_module": "@jupyter-widgets/controls",
      "_model_module_version": "1.5.0",
      "_model_name": "HTMLModel",
      "_view_count": null,
      "_view_module": "@jupyter-widgets/controls",
      "_view_module_version": "1.5.0",
      "_view_name": "HTMLView",
      "description": "",
      "description_tooltip": null,
      "layout": "IPY_MODEL_92c98313524044a68495fba8ebaa8954",
      "placeholder": "​",
      "style": "IPY_MODEL_6e0191b184a54f0387cc1b6a459603fa",
      "value": " 26422272/? [00:00&lt;00:00, 33960130.49it/s]"
     }
    },
    "37ef8ba5f50f49cbbf2035d23a1057c8": {
     "model_module": "@jupyter-widgets/controls",
     "model_module_version": "1.5.0",
     "model_name": "HTMLModel",
     "state": {
      "_dom_classes": [],
      "_model_module": "@jupyter-widgets/controls",
      "_model_module_version": "1.5.0",
      "_model_name": "HTMLModel",
      "_view_count": null,
      "_view_module": "@jupyter-widgets/controls",
      "_view_module_version": "1.5.0",
      "_view_name": "HTMLView",
      "description": "",
      "description_tooltip": null,
      "layout": "IPY_MODEL_5d7511348f71431e8e4a312bc14b1d64",
      "placeholder": "​",
      "style": "IPY_MODEL_72b18c73d7744e359f2d8469a24a011a",
      "value": ""
     }
    },
    "3b9c1ca8ba044a868bc8da6faa5d2083": {
     "model_module": "@jupyter-widgets/controls",
     "model_module_version": "1.5.0",
     "model_name": "HTMLModel",
     "state": {
      "_dom_classes": [],
      "_model_module": "@jupyter-widgets/controls",
      "_model_module_version": "1.5.0",
      "_model_name": "HTMLModel",
      "_view_count": null,
      "_view_module": "@jupyter-widgets/controls",
      "_view_module_version": "1.5.0",
      "_view_name": "HTMLView",
      "description": "",
      "description_tooltip": null,
      "layout": "IPY_MODEL_e1c6baa4c33d4c27a229c361d8ab9a82",
      "placeholder": "​",
      "style": "IPY_MODEL_9168e946050540598d4fd826b7a08dec",
      "value": " 6144/? [00:00&lt;00:00, 8497.26it/s]"
     }
    },
    "421e8b0177144a49865bd0de3f348721": {
     "model_module": "@jupyter-widgets/base",
     "model_module_version": "1.2.0",
     "model_name": "LayoutModel",
     "state": {
      "_model_module": "@jupyter-widgets/base",
      "_model_module_version": "1.2.0",
      "_model_name": "LayoutModel",
      "_view_count": null,
      "_view_module": "@jupyter-widgets/base",
      "_view_module_version": "1.2.0",
      "_view_name": "LayoutView",
      "align_content": null,
      "align_items": null,
      "align_self": null,
      "border": null,
      "bottom": null,
      "display": null,
      "flex": null,
      "flex_flow": null,
      "grid_area": null,
      "grid_auto_columns": null,
      "grid_auto_flow": null,
      "grid_auto_rows": null,
      "grid_column": null,
      "grid_gap": null,
      "grid_row": null,
      "grid_template_areas": null,
      "grid_template_columns": null,
      "grid_template_rows": null,
      "height": null,
      "justify_content": null,
      "justify_items": null,
      "left": null,
      "margin": null,
      "max_height": null,
      "max_width": null,
      "min_height": null,
      "min_width": null,
      "object_fit": null,
      "object_position": null,
      "order": null,
      "overflow": null,
      "overflow_x": null,
      "overflow_y": null,
      "padding": null,
      "right": null,
      "top": null,
      "visibility": null,
      "width": null
     }
    },
    "5c682e6e2cf64f11b8320a61713d619d": {
     "model_module": "@jupyter-widgets/controls",
     "model_module_version": "1.5.0",
     "model_name": "FloatProgressModel",
     "state": {
      "_dom_classes": [],
      "_model_module": "@jupyter-widgets/controls",
      "_model_module_version": "1.5.0",
      "_model_name": "FloatProgressModel",
      "_view_count": null,
      "_view_module": "@jupyter-widgets/controls",
      "_view_module_version": "1.5.0",
      "_view_name": "ProgressView",
      "bar_style": "success",
      "description": "",
      "description_tooltip": null,
      "layout": "IPY_MODEL_d8feac653a364dcca78397a0085468b1",
      "max": 4422102,
      "min": 0,
      "orientation": "horizontal",
      "style": "IPY_MODEL_7b1e0452d4984bc3a330e2b9f846049b",
      "value": 4422102
     }
    },
    "5c7cab0f189b45a2a60db0e5317f0b10": {
     "model_module": "@jupyter-widgets/controls",
     "model_module_version": "1.5.0",
     "model_name": "ProgressStyleModel",
     "state": {
      "_model_module": "@jupyter-widgets/controls",
      "_model_module_version": "1.5.0",
      "_model_name": "ProgressStyleModel",
      "_view_count": null,
      "_view_module": "@jupyter-widgets/base",
      "_view_module_version": "1.2.0",
      "_view_name": "StyleView",
      "bar_color": null,
      "description_width": ""
     }
    },
    "5d7511348f71431e8e4a312bc14b1d64": {
     "model_module": "@jupyter-widgets/base",
     "model_module_version": "1.2.0",
     "model_name": "LayoutModel",
     "state": {
      "_model_module": "@jupyter-widgets/base",
      "_model_module_version": "1.2.0",
      "_model_name": "LayoutModel",
      "_view_count": null,
      "_view_module": "@jupyter-widgets/base",
      "_view_module_version": "1.2.0",
      "_view_name": "LayoutView",
      "align_content": null,
      "align_items": null,
      "align_self": null,
      "border": null,
      "bottom": null,
      "display": null,
      "flex": null,
      "flex_flow": null,
      "grid_area": null,
      "grid_auto_columns": null,
      "grid_auto_flow": null,
      "grid_auto_rows": null,
      "grid_column": null,
      "grid_gap": null,
      "grid_row": null,
      "grid_template_areas": null,
      "grid_template_columns": null,
      "grid_template_rows": null,
      "height": null,
      "justify_content": null,
      "justify_items": null,
      "left": null,
      "margin": null,
      "max_height": null,
      "max_width": null,
      "min_height": null,
      "min_width": null,
      "object_fit": null,
      "object_position": null,
      "order": null,
      "overflow": null,
      "overflow_x": null,
      "overflow_y": null,
      "padding": null,
      "right": null,
      "top": null,
      "visibility": null,
      "width": null
     }
    },
    "5fe2bc2fbd704e64b0363931a7d80180": {
     "model_module": "@jupyter-widgets/base",
     "model_module_version": "1.2.0",
     "model_name": "LayoutModel",
     "state": {
      "_model_module": "@jupyter-widgets/base",
      "_model_module_version": "1.2.0",
      "_model_name": "LayoutModel",
      "_view_count": null,
      "_view_module": "@jupyter-widgets/base",
      "_view_module_version": "1.2.0",
      "_view_name": "LayoutView",
      "align_content": null,
      "align_items": null,
      "align_self": null,
      "border": null,
      "bottom": null,
      "display": null,
      "flex": null,
      "flex_flow": null,
      "grid_area": null,
      "grid_auto_columns": null,
      "grid_auto_flow": null,
      "grid_auto_rows": null,
      "grid_column": null,
      "grid_gap": null,
      "grid_row": null,
      "grid_template_areas": null,
      "grid_template_columns": null,
      "grid_template_rows": null,
      "height": null,
      "justify_content": null,
      "justify_items": null,
      "left": null,
      "margin": null,
      "max_height": null,
      "max_width": null,
      "min_height": null,
      "min_width": null,
      "object_fit": null,
      "object_position": null,
      "order": null,
      "overflow": null,
      "overflow_x": null,
      "overflow_y": null,
      "padding": null,
      "right": null,
      "top": null,
      "visibility": null,
      "width": null
     }
    },
    "6e0191b184a54f0387cc1b6a459603fa": {
     "model_module": "@jupyter-widgets/controls",
     "model_module_version": "1.5.0",
     "model_name": "DescriptionStyleModel",
     "state": {
      "_model_module": "@jupyter-widgets/controls",
      "_model_module_version": "1.5.0",
      "_model_name": "DescriptionStyleModel",
      "_view_count": null,
      "_view_module": "@jupyter-widgets/base",
      "_view_module_version": "1.2.0",
      "_view_name": "StyleView",
      "description_width": ""
     }
    },
    "72b18c73d7744e359f2d8469a24a011a": {
     "model_module": "@jupyter-widgets/controls",
     "model_module_version": "1.5.0",
     "model_name": "DescriptionStyleModel",
     "state": {
      "_model_module": "@jupyter-widgets/controls",
      "_model_module_version": "1.5.0",
      "_model_name": "DescriptionStyleModel",
      "_view_count": null,
      "_view_module": "@jupyter-widgets/base",
      "_view_module_version": "1.2.0",
      "_view_name": "StyleView",
      "description_width": ""
     }
    },
    "755aec4b7d80447d9602c0b81a586917": {
     "model_module": "@jupyter-widgets/base",
     "model_module_version": "1.2.0",
     "model_name": "LayoutModel",
     "state": {
      "_model_module": "@jupyter-widgets/base",
      "_model_module_version": "1.2.0",
      "_model_name": "LayoutModel",
      "_view_count": null,
      "_view_module": "@jupyter-widgets/base",
      "_view_module_version": "1.2.0",
      "_view_name": "LayoutView",
      "align_content": null,
      "align_items": null,
      "align_self": null,
      "border": null,
      "bottom": null,
      "display": null,
      "flex": null,
      "flex_flow": null,
      "grid_area": null,
      "grid_auto_columns": null,
      "grid_auto_flow": null,
      "grid_auto_rows": null,
      "grid_column": null,
      "grid_gap": null,
      "grid_row": null,
      "grid_template_areas": null,
      "grid_template_columns": null,
      "grid_template_rows": null,
      "height": null,
      "justify_content": null,
      "justify_items": null,
      "left": null,
      "margin": null,
      "max_height": null,
      "max_width": null,
      "min_height": null,
      "min_width": null,
      "object_fit": null,
      "object_position": null,
      "order": null,
      "overflow": null,
      "overflow_x": null,
      "overflow_y": null,
      "padding": null,
      "right": null,
      "top": null,
      "visibility": null,
      "width": null
     }
    },
    "7b1e0452d4984bc3a330e2b9f846049b": {
     "model_module": "@jupyter-widgets/controls",
     "model_module_version": "1.5.0",
     "model_name": "ProgressStyleModel",
     "state": {
      "_model_module": "@jupyter-widgets/controls",
      "_model_module_version": "1.5.0",
      "_model_name": "ProgressStyleModel",
      "_view_count": null,
      "_view_module": "@jupyter-widgets/base",
      "_view_module_version": "1.2.0",
      "_view_name": "StyleView",
      "bar_color": null,
      "description_width": ""
     }
    },
    "7b4e768a117744d09f8fcf0caa50ac8c": {
     "model_module": "@jupyter-widgets/controls",
     "model_module_version": "1.5.0",
     "model_name": "HBoxModel",
     "state": {
      "_dom_classes": [],
      "_model_module": "@jupyter-widgets/controls",
      "_model_module_version": "1.5.0",
      "_model_name": "HBoxModel",
      "_view_count": null,
      "_view_module": "@jupyter-widgets/controls",
      "_view_module_version": "1.5.0",
      "_view_name": "HBoxView",
      "box_style": "",
      "children": [
       "IPY_MODEL_e5affaf1eede47c9b8de3c1103b40f9e",
       "IPY_MODEL_b3edcbd08dac4b809a05f8bd9c8b5801",
       "IPY_MODEL_3415d767baef40e582772691b0302f6a"
      ],
      "layout": "IPY_MODEL_0e2752d5a76c47b7a66f44e8e064c752"
     }
    },
    "817d7de736524859901d23fdfe70f15b": {
     "model_module": "@jupyter-widgets/controls",
     "model_module_version": "1.5.0",
     "model_name": "ProgressStyleModel",
     "state": {
      "_model_module": "@jupyter-widgets/controls",
      "_model_module_version": "1.5.0",
      "_model_name": "ProgressStyleModel",
      "_view_count": null,
      "_view_module": "@jupyter-widgets/base",
      "_view_module_version": "1.2.0",
      "_view_name": "StyleView",
      "bar_color": null,
      "description_width": ""
     }
    },
    "8e620c47a93b4ce1aa19277f6374c564": {
     "model_module": "@jupyter-widgets/controls",
     "model_module_version": "1.5.0",
     "model_name": "ProgressStyleModel",
     "state": {
      "_model_module": "@jupyter-widgets/controls",
      "_model_module_version": "1.5.0",
      "_model_name": "ProgressStyleModel",
      "_view_count": null,
      "_view_module": "@jupyter-widgets/base",
      "_view_module_version": "1.2.0",
      "_view_name": "StyleView",
      "bar_color": null,
      "description_width": ""
     }
    },
    "9168e946050540598d4fd826b7a08dec": {
     "model_module": "@jupyter-widgets/controls",
     "model_module_version": "1.5.0",
     "model_name": "DescriptionStyleModel",
     "state": {
      "_model_module": "@jupyter-widgets/controls",
      "_model_module_version": "1.5.0",
      "_model_name": "DescriptionStyleModel",
      "_view_count": null,
      "_view_module": "@jupyter-widgets/base",
      "_view_module_version": "1.2.0",
      "_view_name": "StyleView",
      "description_width": ""
     }
    },
    "91ead993d4484e5f846925c56fe1e887": {
     "model_module": "@jupyter-widgets/controls",
     "model_module_version": "1.5.0",
     "model_name": "DescriptionStyleModel",
     "state": {
      "_model_module": "@jupyter-widgets/controls",
      "_model_module_version": "1.5.0",
      "_model_name": "DescriptionStyleModel",
      "_view_count": null,
      "_view_module": "@jupyter-widgets/base",
      "_view_module_version": "1.2.0",
      "_view_name": "StyleView",
      "description_width": ""
     }
    },
    "92c98313524044a68495fba8ebaa8954": {
     "model_module": "@jupyter-widgets/base",
     "model_module_version": "1.2.0",
     "model_name": "LayoutModel",
     "state": {
      "_model_module": "@jupyter-widgets/base",
      "_model_module_version": "1.2.0",
      "_model_name": "LayoutModel",
      "_view_count": null,
      "_view_module": "@jupyter-widgets/base",
      "_view_module_version": "1.2.0",
      "_view_name": "LayoutView",
      "align_content": null,
      "align_items": null,
      "align_self": null,
      "border": null,
      "bottom": null,
      "display": null,
      "flex": null,
      "flex_flow": null,
      "grid_area": null,
      "grid_auto_columns": null,
      "grid_auto_flow": null,
      "grid_auto_rows": null,
      "grid_column": null,
      "grid_gap": null,
      "grid_row": null,
      "grid_template_areas": null,
      "grid_template_columns": null,
      "grid_template_rows": null,
      "height": null,
      "justify_content": null,
      "justify_items": null,
      "left": null,
      "margin": null,
      "max_height": null,
      "max_width": null,
      "min_height": null,
      "min_width": null,
      "object_fit": null,
      "object_position": null,
      "order": null,
      "overflow": null,
      "overflow_x": null,
      "overflow_y": null,
      "padding": null,
      "right": null,
      "top": null,
      "visibility": null,
      "width": null
     }
    },
    "93a13424eae64797a1d1aace3813f707": {
     "model_module": "@jupyter-widgets/base",
     "model_module_version": "1.2.0",
     "model_name": "LayoutModel",
     "state": {
      "_model_module": "@jupyter-widgets/base",
      "_model_module_version": "1.2.0",
      "_model_name": "LayoutModel",
      "_view_count": null,
      "_view_module": "@jupyter-widgets/base",
      "_view_module_version": "1.2.0",
      "_view_name": "LayoutView",
      "align_content": null,
      "align_items": null,
      "align_self": null,
      "border": null,
      "bottom": null,
      "display": null,
      "flex": null,
      "flex_flow": null,
      "grid_area": null,
      "grid_auto_columns": null,
      "grid_auto_flow": null,
      "grid_auto_rows": null,
      "grid_column": null,
      "grid_gap": null,
      "grid_row": null,
      "grid_template_areas": null,
      "grid_template_columns": null,
      "grid_template_rows": null,
      "height": null,
      "justify_content": null,
      "justify_items": null,
      "left": null,
      "margin": null,
      "max_height": null,
      "max_width": null,
      "min_height": null,
      "min_width": null,
      "object_fit": null,
      "object_position": null,
      "order": null,
      "overflow": null,
      "overflow_x": null,
      "overflow_y": null,
      "padding": null,
      "right": null,
      "top": null,
      "visibility": null,
      "width": null
     }
    },
    "9d12a278c00d4c778fcfbcd88c23a5ef": {
     "model_module": "@jupyter-widgets/base",
     "model_module_version": "1.2.0",
     "model_name": "LayoutModel",
     "state": {
      "_model_module": "@jupyter-widgets/base",
      "_model_module_version": "1.2.0",
      "_model_name": "LayoutModel",
      "_view_count": null,
      "_view_module": "@jupyter-widgets/base",
      "_view_module_version": "1.2.0",
      "_view_name": "LayoutView",
      "align_content": null,
      "align_items": null,
      "align_self": null,
      "border": null,
      "bottom": null,
      "display": null,
      "flex": null,
      "flex_flow": null,
      "grid_area": null,
      "grid_auto_columns": null,
      "grid_auto_flow": null,
      "grid_auto_rows": null,
      "grid_column": null,
      "grid_gap": null,
      "grid_row": null,
      "grid_template_areas": null,
      "grid_template_columns": null,
      "grid_template_rows": null,
      "height": null,
      "justify_content": null,
      "justify_items": null,
      "left": null,
      "margin": null,
      "max_height": null,
      "max_width": null,
      "min_height": null,
      "min_width": null,
      "object_fit": null,
      "object_position": null,
      "order": null,
      "overflow": null,
      "overflow_x": null,
      "overflow_y": null,
      "padding": null,
      "right": null,
      "top": null,
      "visibility": null,
      "width": null
     }
    },
    "9e8edb80089543f5a1631f9ab87b02b6": {
     "model_module": "@jupyter-widgets/base",
     "model_module_version": "1.2.0",
     "model_name": "LayoutModel",
     "state": {
      "_model_module": "@jupyter-widgets/base",
      "_model_module_version": "1.2.0",
      "_model_name": "LayoutModel",
      "_view_count": null,
      "_view_module": "@jupyter-widgets/base",
      "_view_module_version": "1.2.0",
      "_view_name": "LayoutView",
      "align_content": null,
      "align_items": null,
      "align_self": null,
      "border": null,
      "bottom": null,
      "display": null,
      "flex": null,
      "flex_flow": null,
      "grid_area": null,
      "grid_auto_columns": null,
      "grid_auto_flow": null,
      "grid_auto_rows": null,
      "grid_column": null,
      "grid_gap": null,
      "grid_row": null,
      "grid_template_areas": null,
      "grid_template_columns": null,
      "grid_template_rows": null,
      "height": null,
      "justify_content": null,
      "justify_items": null,
      "left": null,
      "margin": null,
      "max_height": null,
      "max_width": null,
      "min_height": null,
      "min_width": null,
      "object_fit": null,
      "object_position": null,
      "order": null,
      "overflow": null,
      "overflow_x": null,
      "overflow_y": null,
      "padding": null,
      "right": null,
      "top": null,
      "visibility": null,
      "width": null
     }
    },
    "a87353d45bdf4a10a8d12185daa986e9": {
     "model_module": "@jupyter-widgets/controls",
     "model_module_version": "1.5.0",
     "model_name": "DescriptionStyleModel",
     "state": {
      "_model_module": "@jupyter-widgets/controls",
      "_model_module_version": "1.5.0",
      "_model_name": "DescriptionStyleModel",
      "_view_count": null,
      "_view_module": "@jupyter-widgets/base",
      "_view_module_version": "1.2.0",
      "_view_name": "StyleView",
      "description_width": ""
     }
    },
    "af3e55b572ac4309a17d573c1b6434c5": {
     "model_module": "@jupyter-widgets/controls",
     "model_module_version": "1.5.0",
     "model_name": "HTMLModel",
     "state": {
      "_dom_classes": [],
      "_model_module": "@jupyter-widgets/controls",
      "_model_module_version": "1.5.0",
      "_model_name": "HTMLModel",
      "_view_count": null,
      "_view_module": "@jupyter-widgets/controls",
      "_view_module_version": "1.5.0",
      "_view_name": "HTMLView",
      "description": "",
      "description_tooltip": null,
      "layout": "IPY_MODEL_5fe2bc2fbd704e64b0363931a7d80180",
      "placeholder": "​",
      "style": "IPY_MODEL_91ead993d4484e5f846925c56fe1e887",
      "value": " 29696/? [00:00&lt;00:00, 7523.97it/s]"
     }
    },
    "b3edcbd08dac4b809a05f8bd9c8b5801": {
     "model_module": "@jupyter-widgets/controls",
     "model_module_version": "1.5.0",
     "model_name": "FloatProgressModel",
     "state": {
      "_dom_classes": [],
      "_model_module": "@jupyter-widgets/controls",
      "_model_module_version": "1.5.0",
      "_model_name": "FloatProgressModel",
      "_view_count": null,
      "_view_module": "@jupyter-widgets/controls",
      "_view_module_version": "1.5.0",
      "_view_name": "ProgressView",
      "bar_style": "success",
      "description": "",
      "description_tooltip": null,
      "layout": "IPY_MODEL_9d12a278c00d4c778fcfbcd88c23a5ef",
      "max": 26421880,
      "min": 0,
      "orientation": "horizontal",
      "style": "IPY_MODEL_8e620c47a93b4ce1aa19277f6374c564",
      "value": 26421880
     }
    },
    "bd0b44fd41d4404da197fbbc0c4defe6": {
     "model_module": "@jupyter-widgets/base",
     "model_module_version": "1.2.0",
     "model_name": "LayoutModel",
     "state": {
      "_model_module": "@jupyter-widgets/base",
      "_model_module_version": "1.2.0",
      "_model_name": "LayoutModel",
      "_view_count": null,
      "_view_module": "@jupyter-widgets/base",
      "_view_module_version": "1.2.0",
      "_view_name": "LayoutView",
      "align_content": null,
      "align_items": null,
      "align_self": null,
      "border": null,
      "bottom": null,
      "display": null,
      "flex": null,
      "flex_flow": null,
      "grid_area": null,
      "grid_auto_columns": null,
      "grid_auto_flow": null,
      "grid_auto_rows": null,
      "grid_column": null,
      "grid_gap": null,
      "grid_row": null,
      "grid_template_areas": null,
      "grid_template_columns": null,
      "grid_template_rows": null,
      "height": null,
      "justify_content": null,
      "justify_items": null,
      "left": null,
      "margin": null,
      "max_height": null,
      "max_width": null,
      "min_height": null,
      "min_width": null,
      "object_fit": null,
      "object_position": null,
      "order": null,
      "overflow": null,
      "overflow_x": null,
      "overflow_y": null,
      "padding": null,
      "right": null,
      "top": null,
      "visibility": null,
      "width": null
     }
    },
    "c99c7988846845ceb25f8c350a26c3e6": {
     "model_module": "@jupyter-widgets/controls",
     "model_module_version": "1.5.0",
     "model_name": "HTMLModel",
     "state": {
      "_dom_classes": [],
      "_model_module": "@jupyter-widgets/controls",
      "_model_module_version": "1.5.0",
      "_model_name": "HTMLModel",
      "_view_count": null,
      "_view_module": "@jupyter-widgets/controls",
      "_view_module_version": "1.5.0",
      "_view_name": "HTMLView",
      "description": "",
      "description_tooltip": null,
      "layout": "IPY_MODEL_0232fb3143754b5597f7163538471b74",
      "placeholder": "​",
      "style": "IPY_MODEL_0524c9314f1f4633b2ee8cbbc8f3bf71",
      "value": ""
     }
    },
    "d0a99c8a603c4274a71881b184678da2": {
     "model_module": "@jupyter-widgets/base",
     "model_module_version": "1.2.0",
     "model_name": "LayoutModel",
     "state": {
      "_model_module": "@jupyter-widgets/base",
      "_model_module_version": "1.2.0",
      "_model_name": "LayoutModel",
      "_view_count": null,
      "_view_module": "@jupyter-widgets/base",
      "_view_module_version": "1.2.0",
      "_view_name": "LayoutView",
      "align_content": null,
      "align_items": null,
      "align_self": null,
      "border": null,
      "bottom": null,
      "display": null,
      "flex": null,
      "flex_flow": null,
      "grid_area": null,
      "grid_auto_columns": null,
      "grid_auto_flow": null,
      "grid_auto_rows": null,
      "grid_column": null,
      "grid_gap": null,
      "grid_row": null,
      "grid_template_areas": null,
      "grid_template_columns": null,
      "grid_template_rows": null,
      "height": null,
      "justify_content": null,
      "justify_items": null,
      "left": null,
      "margin": null,
      "max_height": null,
      "max_width": null,
      "min_height": null,
      "min_width": null,
      "object_fit": null,
      "object_position": null,
      "order": null,
      "overflow": null,
      "overflow_x": null,
      "overflow_y": null,
      "padding": null,
      "right": null,
      "top": null,
      "visibility": null,
      "width": null
     }
    },
    "d8feac653a364dcca78397a0085468b1": {
     "model_module": "@jupyter-widgets/base",
     "model_module_version": "1.2.0",
     "model_name": "LayoutModel",
     "state": {
      "_model_module": "@jupyter-widgets/base",
      "_model_module_version": "1.2.0",
      "_model_name": "LayoutModel",
      "_view_count": null,
      "_view_module": "@jupyter-widgets/base",
      "_view_module_version": "1.2.0",
      "_view_name": "LayoutView",
      "align_content": null,
      "align_items": null,
      "align_self": null,
      "border": null,
      "bottom": null,
      "display": null,
      "flex": null,
      "flex_flow": null,
      "grid_area": null,
      "grid_auto_columns": null,
      "grid_auto_flow": null,
      "grid_auto_rows": null,
      "grid_column": null,
      "grid_gap": null,
      "grid_row": null,
      "grid_template_areas": null,
      "grid_template_columns": null,
      "grid_template_rows": null,
      "height": null,
      "justify_content": null,
      "justify_items": null,
      "left": null,
      "margin": null,
      "max_height": null,
      "max_width": null,
      "min_height": null,
      "min_width": null,
      "object_fit": null,
      "object_position": null,
      "order": null,
      "overflow": null,
      "overflow_x": null,
      "overflow_y": null,
      "padding": null,
      "right": null,
      "top": null,
      "visibility": null,
      "width": null
     }
    },
    "e1c6baa4c33d4c27a229c361d8ab9a82": {
     "model_module": "@jupyter-widgets/base",
     "model_module_version": "1.2.0",
     "model_name": "LayoutModel",
     "state": {
      "_model_module": "@jupyter-widgets/base",
      "_model_module_version": "1.2.0",
      "_model_name": "LayoutModel",
      "_view_count": null,
      "_view_module": "@jupyter-widgets/base",
      "_view_module_version": "1.2.0",
      "_view_name": "LayoutView",
      "align_content": null,
      "align_items": null,
      "align_self": null,
      "border": null,
      "bottom": null,
      "display": null,
      "flex": null,
      "flex_flow": null,
      "grid_area": null,
      "grid_auto_columns": null,
      "grid_auto_flow": null,
      "grid_auto_rows": null,
      "grid_column": null,
      "grid_gap": null,
      "grid_row": null,
      "grid_template_areas": null,
      "grid_template_columns": null,
      "grid_template_rows": null,
      "height": null,
      "justify_content": null,
      "justify_items": null,
      "left": null,
      "margin": null,
      "max_height": null,
      "max_width": null,
      "min_height": null,
      "min_width": null,
      "object_fit": null,
      "object_position": null,
      "order": null,
      "overflow": null,
      "overflow_x": null,
      "overflow_y": null,
      "padding": null,
      "right": null,
      "top": null,
      "visibility": null,
      "width": null
     }
    },
    "e5affaf1eede47c9b8de3c1103b40f9e": {
     "model_module": "@jupyter-widgets/controls",
     "model_module_version": "1.5.0",
     "model_name": "HTMLModel",
     "state": {
      "_dom_classes": [],
      "_model_module": "@jupyter-widgets/controls",
      "_model_module_version": "1.5.0",
      "_model_name": "HTMLModel",
      "_view_count": null,
      "_view_module": "@jupyter-widgets/controls",
      "_view_module_version": "1.5.0",
      "_view_name": "HTMLView",
      "description": "",
      "description_tooltip": null,
      "layout": "IPY_MODEL_93a13424eae64797a1d1aace3813f707",
      "placeholder": "​",
      "style": "IPY_MODEL_fa114246d27140079ca97c3308dfc8de",
      "value": ""
     }
    },
    "eaa7564267894094a4df642b3a449a6b": {
     "model_module": "@jupyter-widgets/base",
     "model_module_version": "1.2.0",
     "model_name": "LayoutModel",
     "state": {
      "_model_module": "@jupyter-widgets/base",
      "_model_module_version": "1.2.0",
      "_model_name": "LayoutModel",
      "_view_count": null,
      "_view_module": "@jupyter-widgets/base",
      "_view_module_version": "1.2.0",
      "_view_name": "LayoutView",
      "align_content": null,
      "align_items": null,
      "align_self": null,
      "border": null,
      "bottom": null,
      "display": null,
      "flex": null,
      "flex_flow": null,
      "grid_area": null,
      "grid_auto_columns": null,
      "grid_auto_flow": null,
      "grid_auto_rows": null,
      "grid_column": null,
      "grid_gap": null,
      "grid_row": null,
      "grid_template_areas": null,
      "grid_template_columns": null,
      "grid_template_rows": null,
      "height": null,
      "justify_content": null,
      "justify_items": null,
      "left": null,
      "margin": null,
      "max_height": null,
      "max_width": null,
      "min_height": null,
      "min_width": null,
      "object_fit": null,
      "object_position": null,
      "order": null,
      "overflow": null,
      "overflow_x": null,
      "overflow_y": null,
      "padding": null,
      "right": null,
      "top": null,
      "visibility": null,
      "width": null
     }
    },
    "eb960686f4234f798592135cdefd6e39": {
     "model_module": "@jupyter-widgets/controls",
     "model_module_version": "1.5.0",
     "model_name": "HTMLModel",
     "state": {
      "_dom_classes": [],
      "_model_module": "@jupyter-widgets/controls",
      "_model_module_version": "1.5.0",
      "_model_name": "HTMLModel",
      "_view_count": null,
      "_view_module": "@jupyter-widgets/controls",
      "_view_module_version": "1.5.0",
      "_view_name": "HTMLView",
      "description": "",
      "description_tooltip": null,
      "layout": "IPY_MODEL_9e8edb80089543f5a1631f9ab87b02b6",
      "placeholder": "​",
      "style": "IPY_MODEL_a87353d45bdf4a10a8d12185daa986e9",
      "value": ""
     }
    },
    "ec2c281e90234b289c53913d2d267ef0": {
     "model_module": "@jupyter-widgets/controls",
     "model_module_version": "1.5.0",
     "model_name": "FloatProgressModel",
     "state": {
      "_dom_classes": [],
      "_model_module": "@jupyter-widgets/controls",
      "_model_module_version": "1.5.0",
      "_model_name": "FloatProgressModel",
      "_view_count": null,
      "_view_module": "@jupyter-widgets/controls",
      "_view_module_version": "1.5.0",
      "_view_name": "ProgressView",
      "bar_style": "success",
      "description": "",
      "description_tooltip": null,
      "layout": "IPY_MODEL_eaa7564267894094a4df642b3a449a6b",
      "max": 29515,
      "min": 0,
      "orientation": "horizontal",
      "style": "IPY_MODEL_817d7de736524859901d23fdfe70f15b",
      "value": 29515
     }
    },
    "f3f5e26dc60d42359c472dd67094b515": {
     "model_module": "@jupyter-widgets/controls",
     "model_module_version": "1.5.0",
     "model_name": "HBoxModel",
     "state": {
      "_dom_classes": [],
      "_model_module": "@jupyter-widgets/controls",
      "_model_module_version": "1.5.0",
      "_model_name": "HBoxModel",
      "_view_count": null,
      "_view_module": "@jupyter-widgets/controls",
      "_view_module_version": "1.5.0",
      "_view_name": "HBoxView",
      "box_style": "",
      "children": [
       "IPY_MODEL_eb960686f4234f798592135cdefd6e39",
       "IPY_MODEL_ec2c281e90234b289c53913d2d267ef0",
       "IPY_MODEL_af3e55b572ac4309a17d573c1b6434c5"
      ],
      "layout": "IPY_MODEL_421e8b0177144a49865bd0de3f348721"
     }
    },
    "fa114246d27140079ca97c3308dfc8de": {
     "model_module": "@jupyter-widgets/controls",
     "model_module_version": "1.5.0",
     "model_name": "DescriptionStyleModel",
     "state": {
      "_model_module": "@jupyter-widgets/controls",
      "_model_module_version": "1.5.0",
      "_model_name": "DescriptionStyleModel",
      "_view_count": null,
      "_view_module": "@jupyter-widgets/base",
      "_view_module_version": "1.2.0",
      "_view_name": "StyleView",
      "description_width": ""
     }
    },
    "fd3478e172c44a83acef6cb1e1ec9c9d": {
     "model_module": "@jupyter-widgets/controls",
     "model_module_version": "1.5.0",
     "model_name": "DescriptionStyleModel",
     "state": {
      "_model_module": "@jupyter-widgets/controls",
      "_model_module_version": "1.5.0",
      "_model_name": "DescriptionStyleModel",
      "_view_count": null,
      "_view_module": "@jupyter-widgets/base",
      "_view_module_version": "1.2.0",
      "_view_name": "StyleView",
      "description_width": ""
     }
    },
    "ff7c61e5360b4992ba25cdae8de7ee58": {
     "model_module": "@jupyter-widgets/controls",
     "model_module_version": "1.5.0",
     "model_name": "HTMLModel",
     "state": {
      "_dom_classes": [],
      "_model_module": "@jupyter-widgets/controls",
      "_model_module_version": "1.5.0",
      "_model_name": "HTMLModel",
      "_view_count": null,
      "_view_module": "@jupyter-widgets/controls",
      "_view_module_version": "1.5.0",
      "_view_name": "HTMLView",
      "description": "",
      "description_tooltip": null,
      "layout": "IPY_MODEL_755aec4b7d80447d9602c0b81a586917",
      "placeholder": "​",
      "style": "IPY_MODEL_fd3478e172c44a83acef6cb1e1ec9c9d",
      "value": " 4422656/? [00:00&lt;00:00, 13291618.67it/s]"
     }
    }
   }
  }
 },
 "nbformat": 4,
 "nbformat_minor": 1
}
