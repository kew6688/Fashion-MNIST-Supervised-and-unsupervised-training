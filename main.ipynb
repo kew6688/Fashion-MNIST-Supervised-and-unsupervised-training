{
  "cells": [
    {
      "cell_type": "markdown",
      "metadata": {
        "id": "D7aIwqamvyIG"
      },
      "source": [
        "# Adaption to new classes\n",
        "project 7 by Guanzhao Wang, Haochen Wu, Yukai Wang"
      ]
    },
    {
      "cell_type": "markdown",
      "metadata": {
        "id": "yCFoPi-QvyII"
      },
      "source": [
        "### Abstact outline:\n",
        "In this project, the goal is to find a way conbines unsupervised and supervised method. \n",
        "\n",
        "A classification model is trained under labelled categories on Fashion-MNIST dataset. Then, new categories are added without labels. There are several unsupervised clustering methods implemented and compared. The classification model will based on the pretrained model from supervised images and retrained with the categories labelled by the unsupervised methods."
      ]
    },
    {
      "cell_type": "markdown",
      "metadata": {
        "id": "FaUhgDsOvyII"
      },
      "source": [
        "### Teammates:\n",
        "- Guanzhao Wang:\n",
        "\n",
        "- Haochen Wu:\n",
        "\n",
        "- Yukai Wang:"
      ]
    },
    {
      "cell_type": "code",
      "execution_count": 1,
      "metadata": {
        "id": "TqFWzIGLvyIJ"
      },
      "outputs": [],
      "source": [
        "from mylibs.dataloader import getTrainValidateLoaders, getTestLoaders\n",
        "from mylibs.train import train\n",
        "from mylibs.eval import validate\n",
        "from mylibs.model import Net, CustomFashionResNet\n",
        "from mylibs.loss import loss_function\n",
        "from mylibs.report import report_epoch_summary, report_summary\n",
        "from mylibs.save import save, load\n",
        "\n",
        "import torch\n",
        "from torchvision import transforms\n",
        "import os"
      ]
    },
    {
      "cell_type": "code",
      "execution_count": 2,
      "metadata": {
        "id": "XPjNeNZXvyIK"
      },
      "outputs": [],
      "source": [
        "USE_GPU = False\n",
        "BATCH_SIZE = 64\n",
        "EPOCH = 10\n",
        "NUM_WORKERS = 2\n",
        "K = 7"
      ]
    },
    {
      "cell_type": "code",
      "execution_count": 3,
      "metadata": {
        "id": "Py5n0DaWvyIK"
      },
      "outputs": [],
      "source": [
        "device = torch.device(\"cuda\" if USE_GPU else \"cpu\")\n",
        "\n",
        "transform = transforms.Compose([\n",
        "    transforms.ToTensor()\n",
        "])\n",
        "\n",
        "mode_description = {0: \"clustering: kmeans\",\n",
        "                    1: \"clustering: kmeans with PCA\",\n",
        "                    2: \"clustering: kmeans with Auto Encoder\",\n",
        "                    3: \"clustering: Gaussian Mixture\",\n",
        "                    4: \"clustering: Gaussian Mixture with PCA\",\n",
        "                    5: \"clustering: Gaussian Mixture with Auto Encoder\",\n",
        "                    6: \"use only labeled data\",\n",
        "                    7: \"use full FasionMNIST data\",\n",
        "                   }\n",
        "\n",
        "mode_description_short = {0: \"Kmeans\",\n",
        "                          1: \"Kmeans with PCA\",\n",
        "                          2: \"Kmeans with Auto Encoder\",\n",
        "                          3: \"Gaussian Mixture\",\n",
        "                          4: \"Gaussian Mixture with PCA\",\n",
        "                          5: \"Gaussian Mixture with Auto Encoder\",\n",
        "                          6: \"Labeled data only\",\n",
        "                          7: \"Full FasionMNIST\",\n",
        "                         }\n",
        "\n",
        "mode_metrics = {}"
      ]
    },
    {
      "cell_type": "code",
      "execution_count": 4,
      "metadata": {
        "id": "qHVULbqovyIL"
      },
      "outputs": [],
      "source": [
        "def whole_flow(mode, useResnet):\n",
        "    print(f\"Getting train and validate dataloaders for mode {mode}: {mode_description[mode]}\")\n",
        "    train_val_loaders = getTrainValidateLoaders(include_labels=range(K), transform=transform, batch_size=BATCH_SIZE, split=0.9, num_workers=NUM_WORKERS, mode=mode, USE_GPU=USE_GPU)\n",
        "    if useResnet:\n",
        "        model = CustomFashionResNet(color_scale = 1, num_classes = 10).to(device)\n",
        "    else:\n",
        "        model = Net().to(device)\n",
        "    optimizer = torch.optim.Adadelta(model.parameters(), lr=0.01)\n",
        "    eval_metrics = []\n",
        "\n",
        "    model_name = \"ResNet\" if useResnet else \"Net\"\n",
        "    checkpoint_path = f\"./checkpoint/mode_{mode}/{model_name}\"\n",
        "    os.makedirs(checkpoint_path, exist_ok=True)\n",
        "    \n",
        "    print(f\"Start Training... {model_name}\")\n",
        "    # scheduler = StepLR(optimizer, step_size=1, gamma=args.gamma)\n",
        "    for epoch in range(1, EPOCH+1):\n",
        "        eval_metric = train(train_val_loaders, model, loss_function, optimizer, USE_GPU, f\"{checkpoint_path}/epoch_{epoch}.pt\")\n",
        "        eval_metrics.append(eval_metric)\n",
        "        print(f\"Epoch: {epoch}\")\n",
        "        print(f\"\\tTrain      - Loss: {eval_metric['train']['loss']:.4f} Accuracy: {eval_metric['train']['acc']:.4f} F1_score: {eval_metric['train']['f1']:.4f}\")\n",
        "        print(f\"\\tValidation - Loss: {eval_metric['val']['loss']:.4f} Accuracy: {eval_metric['val']['acc']:.4f} F1_score: {eval_metric['val']['f1']:.4f}\")\n",
        "\n",
        "    report_epoch_summary(eval_metrics)\n",
        "    \n",
        "    all_val_f1 = [x['val']['f1'] for x in eval_metrics]\n",
        "    best_epoch = all_val_f1.index(max(all_val_f1)) + 1\n",
        "    print(f\"Loading model at epoch {best_epoch} for best validation f1\")\n",
        "    checkpoint = torch.load(f\"{checkpoint_path}/epoch_{epoch}.pt\")\n",
        "    model.load_state_dict(checkpoint['model_state_dict'])\n",
        "    optimizer.load_state_dict(checkpoint['optimizer_state_dict'])\n",
        "    \n",
        "    print(\"Preparing test loaders\")\n",
        "    labeled_test_loader, unlabeled_test_loader, test_loader = getTestLoaders(include_labels=range(K), transform=transform, batch_size=BATCH_SIZE, num_workers=NUM_WORKERS, USE_GPU=USE_GPU)\n",
        "    \n",
        "    model.eval()\n",
        "    eval_metric = validate(labeled_test_loader, model, loss_function, USE_GPU)\n",
        "    print(f\"Result on labelled test set  : Loss: {eval_metric['loss']:.4f} Accuracy: {eval_metric['acc']:.4f} F1_score: {eval_metric['f1']:.4f}\")\n",
        "\n",
        "    eval_metric = validate(unlabeled_test_loader, model, loss_function, USE_GPU)\n",
        "    print(f\"Result on unlabelled test set: Loss: {eval_metric['loss']:.4f} Accuracy: {eval_metric['acc']:.4f} F1_score: {eval_metric['f1']:.4f}\")\n",
        "\n",
        "    eval_metric = validate(test_loader, model, loss_function, USE_GPU)\n",
        "    print(f\"Result on full test set      : Loss: {eval_metric['loss']:.4f} Accuracy: {eval_metric['acc']:.4f} F1_score: {eval_metric['f1']:.4f}\")\n",
        "    \n",
        "    return eval_metrics"
      ]
    },
    {
      "cell_type": "markdown",
      "metadata": {
        "id": "4GzHq1xDvyIN"
      },
      "source": [
        "## Baseline #1, use only first K-class labelled data to train"
      ]
    },
    {
      "cell_type": "code",
      "execution_count": 5,
      "metadata": {
        "colab": {
          "base_uri": "https://localhost:8080/",
          "height": 1000,
          "referenced_widgets": [
            "7b4e768a117744d09f8fcf0caa50ac8c",
            "0e2752d5a76c47b7a66f44e8e064c752",
            "e5affaf1eede47c9b8de3c1103b40f9e",
            "b3edcbd08dac4b809a05f8bd9c8b5801",
            "3415d767baef40e582772691b0302f6a",
            "fa114246d27140079ca97c3308dfc8de",
            "93a13424eae64797a1d1aace3813f707",
            "8e620c47a93b4ce1aa19277f6374c564",
            "9d12a278c00d4c778fcfbcd88c23a5ef",
            "6e0191b184a54f0387cc1b6a459603fa",
            "92c98313524044a68495fba8ebaa8954",
            "f3f5e26dc60d42359c472dd67094b515",
            "421e8b0177144a49865bd0de3f348721",
            "eb960686f4234f798592135cdefd6e39",
            "ec2c281e90234b289c53913d2d267ef0",
            "af3e55b572ac4309a17d573c1b6434c5",
            "a87353d45bdf4a10a8d12185daa986e9",
            "9e8edb80089543f5a1631f9ab87b02b6",
            "817d7de736524859901d23fdfe70f15b",
            "eaa7564267894094a4df642b3a449a6b",
            "91ead993d4484e5f846925c56fe1e887",
            "5fe2bc2fbd704e64b0363931a7d80180",
            "0ac0fa15251046b7af01b56f7d542cb5",
            "d0a99c8a603c4274a71881b184678da2",
            "37ef8ba5f50f49cbbf2035d23a1057c8",
            "5c682e6e2cf64f11b8320a61713d619d",
            "ff7c61e5360b4992ba25cdae8de7ee58",
            "72b18c73d7744e359f2d8469a24a011a",
            "5d7511348f71431e8e4a312bc14b1d64",
            "7b1e0452d4984bc3a330e2b9f846049b",
            "d8feac653a364dcca78397a0085468b1",
            "fd3478e172c44a83acef6cb1e1ec9c9d",
            "755aec4b7d80447d9602c0b81a586917",
            "2f07622b28ab43958a5c8bb18f7ca660",
            "bd0b44fd41d4404da197fbbc0c4defe6",
            "c99c7988846845ceb25f8c350a26c3e6",
            "275260907d474398a03443c7bec029f8",
            "3b9c1ca8ba044a868bc8da6faa5d2083",
            "0524c9314f1f4633b2ee8cbbc8f3bf71",
            "0232fb3143754b5597f7163538471b74",
            "5c7cab0f189b45a2a60db0e5317f0b10",
            "1b026d12dc9c472884d74b5bb4bc5a5c",
            "9168e946050540598d4fd826b7a08dec",
            "e1c6baa4c33d4c27a229c361d8ab9a82"
          ]
        },
        "id": "em4Fz_acvyIN",
        "outputId": "0c488645-4841-4c6d-f3bb-f2c742a70b9a"
      },
      "outputs": [
        {
          "name": "stdout",
          "output_type": "stream",
          "text": [
            "Getting train and validate dataloaders for mode 6: use only labeled data\n",
            "Downloading http://fashion-mnist.s3-website.eu-central-1.amazonaws.com/train-images-idx3-ubyte.gz\n",
            "Downloading http://fashion-mnist.s3-website.eu-central-1.amazonaws.com/train-images-idx3-ubyte.gz to ../data/FashionMNIST/raw/train-images-idx3-ubyte.gz\n"
          ]
        },
        {
          "data": {
            "application/vnd.jupyter.widget-view+json": {
              "model_id": "7b4e768a117744d09f8fcf0caa50ac8c",
              "version_major": 2,
              "version_minor": 0
            },
            "text/plain": [
              "  0%|          | 0/26421880 [00:00<?, ?it/s]"
            ]
          },
          "metadata": {},
          "output_type": "display_data"
        },
        {
          "name": "stdout",
          "output_type": "stream",
          "text": [
            "Extracting ../data/FashionMNIST/raw/train-images-idx3-ubyte.gz to ../data/FashionMNIST/raw\n",
            "\n",
            "Downloading http://fashion-mnist.s3-website.eu-central-1.amazonaws.com/train-labels-idx1-ubyte.gz\n",
            "Downloading http://fashion-mnist.s3-website.eu-central-1.amazonaws.com/train-labels-idx1-ubyte.gz to ../data/FashionMNIST/raw/train-labels-idx1-ubyte.gz\n"
          ]
        },
        {
          "data": {
            "application/vnd.jupyter.widget-view+json": {
              "model_id": "f3f5e26dc60d42359c472dd67094b515",
              "version_major": 2,
              "version_minor": 0
            },
            "text/plain": [
              "  0%|          | 0/29515 [00:00<?, ?it/s]"
            ]
          },
          "metadata": {},
          "output_type": "display_data"
        },
        {
          "name": "stdout",
          "output_type": "stream",
          "text": [
            "Extracting ../data/FashionMNIST/raw/train-labels-idx1-ubyte.gz to ../data/FashionMNIST/raw\n",
            "\n",
            "Downloading http://fashion-mnist.s3-website.eu-central-1.amazonaws.com/t10k-images-idx3-ubyte.gz\n",
            "Downloading http://fashion-mnist.s3-website.eu-central-1.amazonaws.com/t10k-images-idx3-ubyte.gz to ../data/FashionMNIST/raw/t10k-images-idx3-ubyte.gz\n"
          ]
        },
        {
          "data": {
            "application/vnd.jupyter.widget-view+json": {
              "model_id": "0ac0fa15251046b7af01b56f7d542cb5",
              "version_major": 2,
              "version_minor": 0
            },
            "text/plain": [
              "  0%|          | 0/4422102 [00:00<?, ?it/s]"
            ]
          },
          "metadata": {},
          "output_type": "display_data"
        },
        {
          "name": "stdout",
          "output_type": "stream",
          "text": [
            "Extracting ../data/FashionMNIST/raw/t10k-images-idx3-ubyte.gz to ../data/FashionMNIST/raw\n",
            "\n",
            "Downloading http://fashion-mnist.s3-website.eu-central-1.amazonaws.com/t10k-labels-idx1-ubyte.gz\n",
            "Downloading http://fashion-mnist.s3-website.eu-central-1.amazonaws.com/t10k-labels-idx1-ubyte.gz to ../data/FashionMNIST/raw/t10k-labels-idx1-ubyte.gz\n"
          ]
        },
        {
          "data": {
            "application/vnd.jupyter.widget-view+json": {
              "model_id": "2f07622b28ab43958a5c8bb18f7ca660",
              "version_major": 2,
              "version_minor": 0
            },
            "text/plain": [
              "  0%|          | 0/5148 [00:00<?, ?it/s]"
            ]
          },
          "metadata": {},
          "output_type": "display_data"
        },
        {
          "name": "stdout",
          "output_type": "stream",
          "text": [
            "Extracting ../data/FashionMNIST/raw/t10k-labels-idx1-ubyte.gz to ../data/FashionMNIST/raw\n",
            "\n",
            "Start Training... Net\n",
            "Epoch: 1\n",
            "\tTrain      - Loss: 0.6007 Accuracy: 0.7893 F1_score: 0.7866\n",
            "\tValidation - Loss: 0.4469 Accuracy: 0.8388 F1_score: 0.8375\n",
            "Epoch: 2\n",
            "\tTrain      - Loss: 0.4159 Accuracy: 0.8487 F1_score: 0.8476\n",
            "\tValidation - Loss: 0.3953 Accuracy: 0.8598 F1_score: 0.8599\n",
            "Epoch: 3\n",
            "\tTrain      - Loss: 0.3700 Accuracy: 0.8654 F1_score: 0.8646\n",
            "\tValidation - Loss: 0.3673 Accuracy: 0.8700 F1_score: 0.8696\n",
            "Epoch: 4\n",
            "\tTrain      - Loss: 0.3397 Accuracy: 0.8770 F1_score: 0.8764\n",
            "\tValidation - Loss: 0.3555 Accuracy: 0.8707 F1_score: 0.8693\n",
            "Epoch: 5\n",
            "\tTrain      - Loss: 0.3184 Accuracy: 0.8859 F1_score: 0.8854\n",
            "\tValidation - Loss: 0.3486 Accuracy: 0.8762 F1_score: 0.8750\n",
            "Epoch: 6\n",
            "\tTrain      - Loss: 0.3011 Accuracy: 0.8919 F1_score: 0.8914\n",
            "\tValidation - Loss: 0.3418 Accuracy: 0.8788 F1_score: 0.8770\n",
            "Epoch: 7\n",
            "\tTrain      - Loss: 0.2858 Accuracy: 0.8994 F1_score: 0.8990\n",
            "\tValidation - Loss: 0.3345 Accuracy: 0.8817 F1_score: 0.8828\n",
            "Epoch: 8\n",
            "\tTrain      - Loss: 0.2742 Accuracy: 0.9033 F1_score: 0.9029\n",
            "\tValidation - Loss: 0.3257 Accuracy: 0.8821 F1_score: 0.8824\n",
            "Epoch: 9\n",
            "\tTrain      - Loss: 0.2628 Accuracy: 0.9078 F1_score: 0.9075\n",
            "\tValidation - Loss: 0.3199 Accuracy: 0.8855 F1_score: 0.8858\n",
            "Epoch: 10\n",
            "\tTrain      - Loss: 0.2531 Accuracy: 0.9125 F1_score: 0.9122\n",
            "\tValidation - Loss: 0.3222 Accuracy: 0.8871 F1_score: 0.8867\n"
          ]
        },
        {
          "data": {
            "text/plain": [
              "<Figure size 432x288 with 0 Axes>"
            ]
          },
          "metadata": {},
          "output_type": "display_data"
        },
        {
          "data": {
            "image/png": "[encoded data removed]",
            "text/plain": [
              "<Figure size 1152x576 with 3 Axes>"
            ]
          },
          "metadata": {
            "needs_background": "light"
          },
          "output_type": "display_data"
        },
        {
          "name": "stdout",
          "output_type": "stream",
          "text": [
            "Loading model at epoch 10 for best validation f1\n",
            "Preparing test loaders\n",
            "Result on labelled test set  : Loss: 0.3478 Accuracy: 0.8736 F1_score: 0.8725\n",
            "Result on unlabelled test set: Loss: 10.0432 Accuracy: 0.0000 F1_score: 0.0000\n",
            "Result on full test set      : Loss: 3.2555 Accuracy: 0.6115 F1_score: 0.5270\n"
          ]
        }
      ],
      "source": [
        "mode_metric = whole_flow(6, False)\n",
        "mode_metrics[6] = mode_metric"
      ]
    },
    {
      "cell_type": "markdown",
      "metadata": {
        "id": "qanzX3pwvyIP"
      },
      "source": [
        "## Baseline #2, use full Fashion-MNIST dataset to train"
      ]
    },
    {
      "cell_type": "code",
      "execution_count": 6,
      "metadata": {
        "colab": {
          "base_uri": "https://localhost:8080/",
          "height": 1000
        },
        "id": "_dw1frCzvyIP",
        "outputId": "7c75e5f8-636d-42e2-9f9f-779eeb268b04"
      },
      "outputs": [
        {
          "name": "stdout",
          "output_type": "stream",
          "text": [
            "Getting train and validate dataloaders for mode 7: use full FasionMNIST data\n",
            "Start Training... Net\n",
            "Epoch: 1\n",
            "\tTrain      - Loss: 0.5418 Accuracy: 0.8197 F1_score: 0.8179\n",
            "\tValidation - Loss: 0.3825 Accuracy: 0.8605 F1_score: 0.8613\n",
            "Epoch: 2\n",
            "\tTrain      - Loss: 0.3588 Accuracy: 0.8753 F1_score: 0.8744\n",
            "\tValidation - Loss: 0.3366 Accuracy: 0.8755 F1_score: 0.8765\n",
            "Epoch: 3\n",
            "\tTrain      - Loss: 0.3188 Accuracy: 0.8882 F1_score: 0.8876\n",
            "\tValidation - Loss: 0.3118 Accuracy: 0.8858 F1_score: 0.8852\n",
            "Epoch: 4\n",
            "\tTrain      - Loss: 0.2936 Accuracy: 0.8974 F1_score: 0.8969\n",
            "\tValidation - Loss: 0.2975 Accuracy: 0.8902 F1_score: 0.8896\n",
            "Epoch: 5\n",
            "\tTrain      - Loss: 0.2745 Accuracy: 0.9047 F1_score: 0.9043\n",
            "\tValidation - Loss: 0.2861 Accuracy: 0.8935 F1_score: 0.8915\n",
            "Epoch: 6\n",
            "\tTrain      - Loss: 0.2588 Accuracy: 0.9100 F1_score: 0.9096\n",
            "\tValidation - Loss: 0.2781 Accuracy: 0.8957 F1_score: 0.8953\n",
            "Epoch: 7\n",
            "\tTrain      - Loss: 0.2469 Accuracy: 0.9137 F1_score: 0.9134\n",
            "\tValidation - Loss: 0.2751 Accuracy: 0.8988 F1_score: 0.8976\n",
            "Epoch: 8\n",
            "\tTrain      - Loss: 0.2354 Accuracy: 0.9187 F1_score: 0.9185\n",
            "\tValidation - Loss: 0.2717 Accuracy: 0.9013 F1_score: 0.9019\n",
            "Epoch: 9\n",
            "\tTrain      - Loss: 0.2252 Accuracy: 0.9220 F1_score: 0.9217\n",
            "\tValidation - Loss: 0.2702 Accuracy: 0.8985 F1_score: 0.8966\n",
            "Epoch: 10\n",
            "\tTrain      - Loss: 0.2157 Accuracy: 0.9261 F1_score: 0.9259\n",
            "\tValidation - Loss: 0.2615 Accuracy: 0.9048 F1_score: 0.9036\n"
          ]
        },
        {
          "data": {
            "text/plain": [
              "<Figure size 432x288 with 0 Axes>"
            ]
          },
          "metadata": {},
          "output_type": "display_data"
        },
        {
          "data": {
            "image/png": "[encoded data removed]",
            "text/plain": [
              "<Figure size 1152x576 with 3 Axes>"
            ]
          },
          "metadata": {
            "needs_background": "light"
          },
          "output_type": "display_data"
        },
        {
          "name": "stdout",
          "output_type": "stream",
          "text": [
            "Loading model at epoch 10 for best validation f1\n",
            "Preparing test loaders\n",
            "Result on labelled test set  : Loss: 0.3539 Accuracy: 0.8720 F1_score: 0.8742\n",
            "Result on unlabelled test set: Loss: 0.1136 Accuracy: 0.9650 F1_score: 0.9727\n",
            "Result on full test set      : Loss: 0.2838 Accuracy: 0.8999 F1_score: 0.8989\n"
          ]
        }
      ],
      "source": [
        "mode_metric = whole_flow(7, False)\n",
        "mode_metrics[7] = mode_metric"
      ]
    },
    {
      "cell_type": "markdown",
      "metadata": {
        "id": "DMlfXz25vyIQ"
      },
      "source": [
        "# Label new categories by clustering\n",
        "\n",
        "- label the dataset under different clustering methods\n",
        "- compare acuracy on the test set"
      ]
    },
    {
      "cell_type": "markdown",
      "metadata": {
        "id": "XfPRFXApvyIQ"
      },
      "source": [
        "## Approach #1, use KMeans to compute label for unlabelled data"
      ]
    },
    {
      "cell_type": "markdown",
      "metadata": {
        "id": "6RPnApO5vyIQ"
      },
      "source": [
        "## Approach #2, use KMeans with PCA to compute label for unlabelled data"
      ]
    },
    {
      "cell_type": "code",
      "execution_count": 5,
      "metadata": {
        "colab": {
          "base_uri": "https://localhost:8080/",
          "height": 1000
        },
        "id": "fuChhiqlvyIQ",
        "outputId": "e753e941-1324-40e7-b81a-415b240dad33",
        "scrolled": false
      },
      "outputs": [
        {
          "name": "stdout",
          "output_type": "stream",
          "text": [
            "Getting train and validate dataloaders for mode 1: clustering: kmeans with PCA\n",
            "Labeling unlabeled data...\n",
            "Labeling accuracy: 0.881\n",
            "Start Training... Net\n",
            "Epoch: 1\n",
            "\tTrain      - Loss: 0.5386 Accuracy: 0.8186 F1_score: 0.8165\n",
            "\tValidation - Loss: 0.4001 Accuracy: 0.8568 F1_score: 0.8533\n",
            "Epoch: 2\n",
            "\tTrain      - Loss: 0.3624 Accuracy: 0.8723 F1_score: 0.8714\n",
            "\tValidation - Loss: 0.3542 Accuracy: 0.8708 F1_score: 0.8680\n",
            "Epoch: 3\n",
            "\tTrain      - Loss: 0.3220 Accuracy: 0.8863 F1_score: 0.8856\n",
            "\tValidation - Loss: 0.3256 Accuracy: 0.8847 F1_score: 0.8845\n",
            "Epoch: 4\n",
            "\tTrain      - Loss: 0.2960 Accuracy: 0.8969 F1_score: 0.8963\n",
            "\tValidation - Loss: 0.3112 Accuracy: 0.8902 F1_score: 0.8898\n",
            "Epoch: 5\n",
            "\tTrain      - Loss: 0.2766 Accuracy: 0.9035 F1_score: 0.9031\n",
            "\tValidation - Loss: 0.2994 Accuracy: 0.8950 F1_score: 0.8949\n",
            "Epoch: 6\n",
            "\tTrain      - Loss: 0.2612 Accuracy: 0.9085 F1_score: 0.9081\n",
            "\tValidation - Loss: 0.2888 Accuracy: 0.8970 F1_score: 0.8961\n",
            "Epoch: 7\n",
            "\tTrain      - Loss: 0.2475 Accuracy: 0.9145 F1_score: 0.9142\n",
            "\tValidation - Loss: 0.2944 Accuracy: 0.8955 F1_score: 0.8941\n",
            "Epoch: 8\n",
            "\tTrain      - Loss: 0.2364 Accuracy: 0.9184 F1_score: 0.9181\n",
            "\tValidation - Loss: 0.2802 Accuracy: 0.9025 F1_score: 0.9026\n",
            "Epoch: 9\n",
            "\tTrain      - Loss: 0.2261 Accuracy: 0.9223 F1_score: 0.9220\n",
            "\tValidation - Loss: 0.2734 Accuracy: 0.9027 F1_score: 0.9029\n",
            "Epoch: 10\n",
            "\tTrain      - Loss: 0.2169 Accuracy: 0.9259 F1_score: 0.9257\n",
            "\tValidation - Loss: 0.2703 Accuracy: 0.9035 F1_score: 0.9032\n"
          ]
        },
        {
          "data": {
            "text/plain": [
              "<Figure size 432x288 with 0 Axes>"
            ]
          },
          "metadata": {},
          "output_type": "display_data"
        },
        {
          "data": {
            "image/png": "[encoded data removed]",
            "text/plain": [
              "<Figure size 1152x576 with 3 Axes>"
            ]
          },
          "metadata": {
            "needs_background": "light"
          },
          "output_type": "display_data"
        },
        {
          "name": "stdout",
          "output_type": "stream",
          "text": [
            "Loading model at epoch 10 for best validation f1\n",
            "Preparing test loaders\n",
            "Result on labelled test set  : Loss: 0.3722 Accuracy: 0.8654 F1_score: 0.8709\n",
            "Result on unlabelled test set: Loss: 0.5602 Accuracy: 0.8753 F1_score: 0.8841\n",
            "Result on full test set      : Loss: 0.4318 Accuracy: 0.8684 F1_score: 0.8694\n"
          ]
        }
      ],
      "source": [
        "mode_metric = whole_flow(1, False)\n",
        "mode_metrics[2] = mode_metric"
      ]
    },
    {
      "cell_type": "markdown",
      "metadata": {
        "id": "ogKtwtzfvyIR"
      },
      "source": [
        "## Approach #3, use KMeans with Auto Encoder to compute label for unlabelled data"
      ]
    },
    {
      "cell_type": "code",
      "execution_count": 5,
      "metadata": {
        "colab": {
          "base_uri": "https://localhost:8080/",
          "height": 416
        },
        "id": "Y47I5HrVwGRN",
        "outputId": "5ff6e971-1ec5-49e1-a15c-611607240e69"
      },
      "outputs": [
        {
          "name": "stdout",
          "output_type": "stream",
          "text": [
            "Getting train and validate dataloaders for mode 2: clustering: kmeans with Auto Encoder\n",
            "Labeling unlabeled data...\n",
            "Training Auto Encoder...\n"
          ]
        },
        {
          "name": "stderr",
          "output_type": "stream",
          "text": [
            "/Library/Frameworks/Python.framework/Versions/3.7/lib/python3.7/site-packages/torch/nn/modules/conv.py:443: UserWarning: Using padding='same' with even kernel lengths and odd dilation may require a zero-padded copy of the input be created (Triggered internally at  ../aten/src/ATen/native/Convolution.cpp:647.)\n",
            "  self.padding, self.dilation, self.groups)\n"
          ]
        },
        {
          "name": "stdout",
          "output_type": "stream",
          "text": [
            "Epoch: 1 Loss: {'loss': 0.6892773025201014}\n",
            "Epoch: 2 Loss: {'loss': 0.6859798306470231}\n",
            "Epoch: 3 Loss: {'loss': 0.6859346521260683}\n",
            "Epoch: 4 Loss: {'loss': 0.6859299871891896}\n",
            "Epoch: 5 Loss: {'loss': 0.6859020433036302}\n",
            "Epoch: 6 Loss: {'loss': 0.6859054240409689}\n",
            "Epoch: 7 Loss: {'loss': 0.6859045087973559}\n",
            "Epoch: 8 Loss: {'loss': 0.6858995532481328}\n",
            "Epoch: 9 Loss: {'loss': 0.6858989054313985}\n",
            "Epoch: 10 Loss: {'loss': 0.6858903946715604}\n",
            "Epoch: 11 Loss: {'loss': 0.6858964884259985}\n",
            "Epoch: 12 Loss: {'loss': 0.6858891554666455}\n",
            "Epoch: 13 Loss: {'loss': 0.6858916156668858}\n",
            "Epoch: 14 Loss: {'loss': 0.6858904178570261}\n",
            "Epoch: 15 Loss: {'loss': 0.6858923923270529}\n",
            "Epoch: 16 Loss: {'loss': 0.6858854541558356}\n",
            "Epoch: 17 Loss: {'loss': 0.6858789842463302}\n",
            "Epoch: 18 Loss: {'loss': 0.6858797223699241}\n",
            "Epoch: 19 Loss: {'loss': 0.6858860142065831}\n",
            "Epoch: 20 Loss: {'loss': 0.685877865627011}\n",
            "Epoch: 21 Loss: {'loss': 0.6858764533251259}\n",
            "Epoch: 22 Loss: {'loss': 0.6858761425975373}\n",
            "Epoch: 23 Loss: {'loss': 0.6858783961401105}\n",
            "Epoch: 24 Loss: {'loss': 0.6858822953214019}\n"
          ]
        }
      ],
      "source": [
        "mode_metric = whole_flow(2, False)\n",
        "mode_metrics[2] = mode_metric"
      ]
    },
    {
      "cell_type": "markdown",
      "metadata": {
        "id": "3cM0jagPvyIR"
      },
      "source": [
        "## Approach #4, use Gaussian Mixture to compute label for unlabelled data"
      ]
    },
    {
      "cell_type": "markdown",
      "metadata": {
        "id": "rIo_WbOxvyIR"
      },
      "source": [
        "## Approach #5, use Gaussian Mixture with PCA to compute label for unlabelled data"
      ]
    },
    {
      "cell_type": "markdown",
      "metadata": {
        "id": "MHyuEiAYvyIS"
      },
      "source": [
        "## Approach #6, use Gaussian Mixture with Auto Encoder to compute label for unlabelled data"
      ]
    },
    {
      "cell_type": "code",
      "execution_count": 7,
      "metadata": {
        "colab": {
          "base_uri": "https://localhost:8080/",
          "height": 530
        },
        "id": "GR0KfiIavyIS",
        "outputId": "849158e1-c411-4ccb-f0e4-fd09dfce4cd1"
      },
      "outputs": [
        {
          "data": {
            "text/plain": [
              "<Figure size 432x288 with 0 Axes>"
            ]
          },
          "metadata": {},
          "output_type": "display_data"
        },
        {
          "data": {
            "image/png": "[encoded data removed]",
            "text/plain": [
              "<Figure size 1152x576 with 3 Axes>"
            ]
          },
          "metadata": {
            "needs_background": "light"
          },
          "output_type": "display_data"
        }
      ],
      "source": [
        "report_summary(mode_metrics, mode_description_short)"
      ]
    },
    {
      "cell_type": "markdown",
      "metadata": {
        "id": "L7zPyScVvyIS"
      },
      "source": [
        "## Conclusion"
      ]
    },
    {
      "cell_type": "markdown",
      "metadata": {
        "id": "oCg3GyKqvyIS"
      },
      "source": []
    }
  ],
  "metadata": {
    "accelerator": "GPU",
    "colab": {
      "name": "main.ipynb",
      "provenance": []
    },
    "interpreter": {
      "hash": "aee8b7b246df8f9039afb4144a1f6fd8d2ca17a180786b69acc140d282b71a49"
    },
    "kernelspec": {
      "display_name": "Python 3",
      "language": "python",
      "name": "python3"
    },
    "language_info": {
      "codemirror_mode": {
        "name": "ipython",
        "version": 3
      },
      "file_extension": ".py",
      "mimetype": "text/x-python",
      "name": "python",
      "nbconvert_exporter": "python",
      "pygments_lexer": "ipython3",
      "version": "3.6.9"
    },
    "widgets": {
      "application/vnd.jupyter.widget-state+json": {
        "0232fb3143754b5597f7163538471b74": {
          "model_module": "@jupyter-widgets/base",
          "model_module_version": "1.2.0",
          "model_name": "LayoutModel",
          "state": {
            "_model_module": "@jupyter-widgets/base",
            "_model_module_version": "1.2.0",
            "_model_name": "LayoutModel",
            "_view_count": null,
            "_view_module": "@jupyter-widgets/base",
            "_view_module_version": "1.2.0",
            "_view_name": "LayoutView",
            "align_content": null,
            "align_items": null,
            "align_self": null,
            "border": null,
            "bottom": null,
            "display": null,
            "flex": null,
            "flex_flow": null,
            "grid_area": null,
            "grid_auto_columns": null,
            "grid_auto_flow": null,
            "grid_auto_rows": null,
            "grid_column": null,
            "grid_gap": null,
            "grid_row": null,
            "grid_template_areas": null,
            "grid_template_columns": null,
            "grid_template_rows": null,
            "height": null,
            "justify_content": null,
            "justify_items": null,
            "left": null,
            "margin": null,
            "max_height": null,
            "max_width": null,
            "min_height": null,
            "min_width": null,
            "object_fit": null,
            "object_position": null,
            "order": null,
            "overflow": null,
            "overflow_x": null,
            "overflow_y": null,
            "padding": null,
            "right": null,
            "top": null,
            "visibility": null,
            "width": null
          }
        },
        "0524c9314f1f4633b2ee8cbbc8f3bf71": {
          "model_module": "@jupyter-widgets/controls",
          "model_module_version": "1.5.0",
          "model_name": "DescriptionStyleModel",
          "state": {
            "_model_module": "@jupyter-widgets/controls",
            "_model_module_version": "1.5.0",
            "_model_name": "DescriptionStyleModel",
            "_view_count": null,
            "_view_module": "@jupyter-widgets/base",
            "_view_module_version": "1.2.0",
            "_view_name": "StyleView",
            "description_width": ""
          }
        },
        "0ac0fa15251046b7af01b56f7d542cb5": {
          "model_module": "@jupyter-widgets/controls",
          "model_module_version": "1.5.0",
          "model_name": "HBoxModel",
          "state": {
            "_dom_classes": [],
            "_model_module": "@jupyter-widgets/controls",
            "_model_module_version": "1.5.0",
            "_model_name": "HBoxModel",
            "_view_count": null,
            "_view_module": "@jupyter-widgets/controls",
            "_view_module_version": "1.5.0",
            "_view_name": "HBoxView",
            "box_style": "",
            "children": [
              "IPY_MODEL_37ef8ba5f50f49cbbf2035d23a1057c8",
              "IPY_MODEL_5c682e6e2cf64f11b8320a61713d619d",
              "IPY_MODEL_ff7c61e5360b4992ba25cdae8de7ee58"
            ],
            "layout": "IPY_MODEL_d0a99c8a603c4274a71881b184678da2"
          }
        },
        "0e2752d5a76c47b7a66f44e8e064c752": {
          "model_module": "@jupyter-widgets/base",
          "model_module_version": "1.2.0",
          "model_name": "LayoutModel",
          "state": {
            "_model_module": "@jupyter-widgets/base",
            "_model_module_version": "1.2.0",
            "_model_name": "LayoutModel",
            "_view_count": null,
            "_view_module": "@jupyter-widgets/base",
            "_view_module_version": "1.2.0",
            "_view_name": "LayoutView",
            "align_content": null,
            "align_items": null,
            "align_self": null,
            "border": null,
            "bottom": null,
            "display": null,
            "flex": null,
            "flex_flow": null,
            "grid_area": null,
            "grid_auto_columns": null,
            "grid_auto_flow": null,
            "grid_auto_rows": null,
            "grid_column": null,
            "grid_gap": null,
            "grid_row": null,
            "grid_template_areas": null,
            "grid_template_columns": null,
            "grid_template_rows": null,
            "height": null,
            "justify_content": null,
            "justify_items": null,
            "left": null,
            "margin": null,
            "max_height": null,
            "max_width": null,
            "min_height": null,
            "min_width": null,
            "object_fit": null,
            "object_position": null,
            "order": null,
            "overflow": null,
            "overflow_x": null,
            "overflow_y": null,
            "padding": null,
            "right": null,
            "top": null,
            "visibility": null,
            "width": null
          }
        },
        "1b026d12dc9c472884d74b5bb4bc5a5c": {
          "model_module": "@jupyter-widgets/base",
          "model_module_version": "1.2.0",
          "model_name": "LayoutModel",
          "state": {
            "_model_module": "@jupyter-widgets/base",
            "_model_module_version": "1.2.0",
            "_model_name": "LayoutModel",
            "_view_count": null,
            "_view_module": "@jupyter-widgets/base",
            "_view_module_version": "1.2.0",
            "_view_name": "LayoutView",
            "align_content": null,
            "align_items": null,
            "align_self": null,
            "border": null,
            "bottom": null,
            "display": null,
            "flex": null,
            "flex_flow": null,
            "grid_area": null,
            "grid_auto_columns": null,
            "grid_auto_flow": null,
            "grid_auto_rows": null,
            "grid_column": null,
            "grid_gap": null,
            "grid_row": null,
            "grid_template_areas": null,
            "grid_template_columns": null,
            "grid_template_rows": null,
            "height": null,
            "justify_content": null,
            "justify_items": null,
            "left": null,
            "margin": null,
            "max_height": null,
            "max_width": null,
            "min_height": null,
            "min_width": null,
            "object_fit": null,
            "object_position": null,
            "order": null,
            "overflow": null,
            "overflow_x": null,
            "overflow_y": null,
            "padding": null,
            "right": null,
            "top": null,
            "visibility": null,
            "width": null
          }
        },
        "275260907d474398a03443c7bec029f8": {
          "model_module": "@jupyter-widgets/controls",
          "model_module_version": "1.5.0",
          "model_name": "FloatProgressModel",
          "state": {
            "_dom_classes": [],
            "_model_module": "@jupyter-widgets/controls",
            "_model_module_version": "1.5.0",
            "_model_name": "FloatProgressModel",
            "_view_count": null,
            "_view_module": "@jupyter-widgets/controls",
            "_view_module_version": "1.5.0",
            "_view_name": "ProgressView",
            "bar_style": "success",
            "description": "",
            "description_tooltip": null,
            "layout": "IPY_MODEL_1b026d12dc9c472884d74b5bb4bc5a5c",
            "max": 5148,
            "min": 0,
            "orientation": "horizontal",
            "style": "IPY_MODEL_5c7cab0f189b45a2a60db0e5317f0b10",
            "value": 5148
          }
        },
        "2f07622b28ab43958a5c8bb18f7ca660": {
          "model_module": "@jupyter-widgets/controls",
          "model_module_version": "1.5.0",
          "model_name": "HBoxModel",
          "state": {
            "_dom_classes": [],
            "_model_module": "@jupyter-widgets/controls",
            "_model_module_version": "1.5.0",
            "_model_name": "HBoxModel",
            "_view_count": null,
            "_view_module": "@jupyter-widgets/controls",
            "_view_module_version": "1.5.0",
            "_view_name": "HBoxView",
            "box_style": "",
            "children": [
              "IPY_MODEL_c99c7988846845ceb25f8c350a26c3e6",
              "IPY_MODEL_275260907d474398a03443c7bec029f8",
              "IPY_MODEL_3b9c1ca8ba044a868bc8da6faa5d2083"
            ],
            "layout": "IPY_MODEL_bd0b44fd41d4404da197fbbc0c4defe6"
          }
        },
        "3415d767baef40e582772691b0302f6a": {
          "model_module": "@jupyter-widgets/controls",
          "model_module_version": "1.5.0",
          "model_name": "HTMLModel",
          "state": {
            "_dom_classes": [],
            "_model_module": "@jupyter-widgets/controls",
            "_model_module_version": "1.5.0",
            "_model_name": "HTMLModel",
            "_view_count": null,
            "_view_module": "@jupyter-widgets/controls",
            "_view_module_version": "1.5.0",
            "_view_name": "HTMLView",
            "description": "",
            "description_tooltip": null,
            "layout": "IPY_MODEL_92c98313524044a68495fba8ebaa8954",
            "placeholder": "​",
            "style": "IPY_MODEL_6e0191b184a54f0387cc1b6a459603fa",
            "value": " 26422272/? [00:00&lt;00:00, 33960130.49it/s]"
          }
        },
        "37ef8ba5f50f49cbbf2035d23a1057c8": {
          "model_module": "@jupyter-widgets/controls",
          "model_module_version": "1.5.0",
          "model_name": "HTMLModel",
          "state": {
            "_dom_classes": [],
            "_model_module": "@jupyter-widgets/controls",
            "_model_module_version": "1.5.0",
            "_model_name": "HTMLModel",
            "_view_count": null,
            "_view_module": "@jupyter-widgets/controls",
            "_view_module_version": "1.5.0",
            "_view_name": "HTMLView",
            "description": "",
            "description_tooltip": null,
            "layout": "IPY_MODEL_5d7511348f71431e8e4a312bc14b1d64",
            "placeholder": "​",
            "style": "IPY_MODEL_72b18c73d7744e359f2d8469a24a011a",
            "value": ""
          }
        },
        "3b9c1ca8ba044a868bc8da6faa5d2083": {
          "model_module": "@jupyter-widgets/controls",
          "model_module_version": "1.5.0",
          "model_name": "HTMLModel",
          "state": {
            "_dom_classes": [],
            "_model_module": "@jupyter-widgets/controls",
            "_model_module_version": "1.5.0",
            "_model_name": "HTMLModel",
            "_view_count": null,
            "_view_module": "@jupyter-widgets/controls",
            "_view_module_version": "1.5.0",
            "_view_name": "HTMLView",
            "description": "",
            "description_tooltip": null,
            "layout": "IPY_MODEL_e1c6baa4c33d4c27a229c361d8ab9a82",
            "placeholder": "​",
            "style": "IPY_MODEL_9168e946050540598d4fd826b7a08dec",
            "value": " 6144/? [00:00&lt;00:00, 8497.26it/s]"
          }
        },
        "421e8b0177144a49865bd0de3f348721": {
          "model_module": "@jupyter-widgets/base",
          "model_module_version": "1.2.0",
          "model_name": "LayoutModel",
          "state": {
            "_model_module": "@jupyter-widgets/base",
            "_model_module_version": "1.2.0",
            "_model_name": "LayoutModel",
            "_view_count": null,
            "_view_module": "@jupyter-widgets/base",
            "_view_module_version": "1.2.0",
            "_view_name": "LayoutView",
            "align_content": null,
            "align_items": null,
            "align_self": null,
            "border": null,
            "bottom": null,
            "display": null,
            "flex": null,
            "flex_flow": null,
            "grid_area": null,
            "grid_auto_columns": null,
            "grid_auto_flow": null,
            "grid_auto_rows": null,
            "grid_column": null,
            "grid_gap": null,
            "grid_row": null,
            "grid_template_areas": null,
            "grid_template_columns": null,
            "grid_template_rows": null,
            "height": null,
            "justify_content": null,
            "justify_items": null,
            "left": null,
            "margin": null,
            "max_height": null,
            "max_width": null,
            "min_height": null,
            "min_width": null,
            "object_fit": null,
            "object_position": null,
            "order": null,
            "overflow": null,
            "overflow_x": null,
            "overflow_y": null,
            "padding": null,
            "right": null,
            "top": null,
            "visibility": null,
            "width": null
          }
        },
        "5c682e6e2cf64f11b8320a61713d619d": {
          "model_module": "@jupyter-widgets/controls",
          "model_module_version": "1.5.0",
          "model_name": "FloatProgressModel",
          "state": {
            "_dom_classes": [],
            "_model_module": "@jupyter-widgets/controls",
            "_model_module_version": "1.5.0",
            "_model_name": "FloatProgressModel",
            "_view_count": null,
            "_view_module": "@jupyter-widgets/controls",
            "_view_module_version": "1.5.0",
            "_view_name": "ProgressView",
            "bar_style": "success",
            "description": "",
            "description_tooltip": null,
            "layout": "IPY_MODEL_d8feac653a364dcca78397a0085468b1",
            "max": 4422102,
            "min": 0,
            "orientation": "horizontal",
            "style": "IPY_MODEL_7b1e0452d4984bc3a330e2b9f846049b",
            "value": 4422102
          }
        },
        "5c7cab0f189b45a2a60db0e5317f0b10": {
          "model_module": "@jupyter-widgets/controls",
          "model_module_version": "1.5.0",
          "model_name": "ProgressStyleModel",
          "state": {
            "_model_module": "@jupyter-widgets/controls",
            "_model_module_version": "1.5.0",
            "_model_name": "ProgressStyleModel",
            "_view_count": null,
            "_view_module": "@jupyter-widgets/base",
            "_view_module_version": "1.2.0",
            "_view_name": "StyleView",
            "bar_color": null,
            "description_width": ""
          }
        },
        "5d7511348f71431e8e4a312bc14b1d64": {
          "model_module": "@jupyter-widgets/base",
          "model_module_version": "1.2.0",
          "model_name": "LayoutModel",
          "state": {
            "_model_module": "@jupyter-widgets/base",
            "_model_module_version": "1.2.0",
            "_model_name": "LayoutModel",
            "_view_count": null,
            "_view_module": "@jupyter-widgets/base",
            "_view_module_version": "1.2.0",
            "_view_name": "LayoutView",
            "align_content": null,
            "align_items": null,
            "align_self": null,
            "border": null,
            "bottom": null,
            "display": null,
            "flex": null,
            "flex_flow": null,
            "grid_area": null,
            "grid_auto_columns": null,
            "grid_auto_flow": null,
            "grid_auto_rows": null,
            "grid_column": null,
            "grid_gap": null,
            "grid_row": null,
            "grid_template_areas": null,
            "grid_template_columns": null,
            "grid_template_rows": null,
            "height": null,
            "justify_content": null,
            "justify_items": null,
            "left": null,
            "margin": null,
            "max_height": null,
            "max_width": null,
            "min_height": null,
            "min_width": null,
            "object_fit": null,
            "object_position": null,
            "order": null,
            "overflow": null,
            "overflow_x": null,
            "overflow_y": null,
            "padding": null,
            "right": null,
            "top": null,
            "visibility": null,
            "width": null
          }
        },
        "5fe2bc2fbd704e64b0363931a7d80180": {
          "model_module": "@jupyter-widgets/base",
          "model_module_version": "1.2.0",
          "model_name": "LayoutModel",
          "state": {
            "_model_module": "@jupyter-widgets/base",
            "_model_module_version": "1.2.0",
            "_model_name": "LayoutModel",
            "_view_count": null,
            "_view_module": "@jupyter-widgets/base",
            "_view_module_version": "1.2.0",
            "_view_name": "LayoutView",
            "align_content": null,
            "align_items": null,
            "align_self": null,
            "border": null,
            "bottom": null,
            "display": null,
            "flex": null,
            "flex_flow": null,
            "grid_area": null,
            "grid_auto_columns": null,
            "grid_auto_flow": null,
            "grid_auto_rows": null,
            "grid_column": null,
            "grid_gap": null,
            "grid_row": null,
            "grid_template_areas": null,
            "grid_template_columns": null,
            "grid_template_rows": null,
            "height": null,
            "justify_content": null,
            "justify_items": null,
            "left": null,
            "margin": null,
            "max_height": null,
            "max_width": null,
            "min_height": null,
            "min_width": null,
            "object_fit": null,
            "object_position": null,
            "order": null,
            "overflow": null,
            "overflow_x": null,
            "overflow_y": null,
            "padding": null,
            "right": null,
            "top": null,
            "visibility": null,
            "width": null
          }
        },
        "6e0191b184a54f0387cc1b6a459603fa": {
          "model_module": "@jupyter-widgets/controls",
          "model_module_version": "1.5.0",
          "model_name": "DescriptionStyleModel",
          "state": {
            "_model_module": "@jupyter-widgets/controls",
            "_model_module_version": "1.5.0",
            "_model_name": "DescriptionStyleModel",
            "_view_count": null,
            "_view_module": "@jupyter-widgets/base",
            "_view_module_version": "1.2.0",
            "_view_name": "StyleView",
            "description_width": ""
          }
        },
        "72b18c73d7744e359f2d8469a24a011a": {
          "model_module": "@jupyter-widgets/controls",
          "model_module_version": "1.5.0",
          "model_name": "DescriptionStyleModel",
          "state": {
            "_model_module": "@jupyter-widgets/controls",
            "_model_module_version": "1.5.0",
            "_model_name": "DescriptionStyleModel",
            "_view_count": null,
            "_view_module": "@jupyter-widgets/base",
            "_view_module_version": "1.2.0",
            "_view_name": "StyleView",
            "description_width": ""
          }
        },
        "755aec4b7d80447d9602c0b81a586917": {
          "model_module": "@jupyter-widgets/base",
          "model_module_version": "1.2.0",
          "model_name": "LayoutModel",
          "state": {
            "_model_module": "@jupyter-widgets/base",
            "_model_module_version": "1.2.0",
            "_model_name": "LayoutModel",
            "_view_count": null,
            "_view_module": "@jupyter-widgets/base",
            "_view_module_version": "1.2.0",
            "_view_name": "LayoutView",
            "align_content": null,
            "align_items": null,
            "align_self": null,
            "border": null,
            "bottom": null,
            "display": null,
            "flex": null,
            "flex_flow": null,
            "grid_area": null,
            "grid_auto_columns": null,
            "grid_auto_flow": null,
            "grid_auto_rows": null,
            "grid_column": null,
            "grid_gap": null,
            "grid_row": null,
            "grid_template_areas": null,
            "grid_template_columns": null,
            "grid_template_rows": null,
            "height": null,
            "justify_content": null,
            "justify_items": null,
            "left": null,
            "margin": null,
            "max_height": null,
            "max_width": null,
            "min_height": null,
            "min_width": null,
            "object_fit": null,
            "object_position": null,
            "order": null,
            "overflow": null,
            "overflow_x": null,
            "overflow_y": null,
            "padding": null,
            "right": null,
            "top": null,
            "visibility": null,
            "width": null
          }
        },
        "7b1e0452d4984bc3a330e2b9f846049b": {
          "model_module": "@jupyter-widgets/controls",
          "model_module_version": "1.5.0",
          "model_name": "ProgressStyleModel",
          "state": {
            "_model_module": "@jupyter-widgets/controls",
            "_model_module_version": "1.5.0",
            "_model_name": "ProgressStyleModel",
            "_view_count": null,
            "_view_module": "@jupyter-widgets/base",
            "_view_module_version": "1.2.0",
            "_view_name": "StyleView",
            "bar_color": null,
            "description_width": ""
          }
        },
        "7b4e768a117744d09f8fcf0caa50ac8c": {
          "model_module": "@jupyter-widgets/controls",
          "model_module_version": "1.5.0",
          "model_name": "HBoxModel",
          "state": {
            "_dom_classes": [],
            "_model_module": "@jupyter-widgets/controls",
            "_model_module_version": "1.5.0",
            "_model_name": "HBoxModel",
            "_view_count": null,
            "_view_module": "@jupyter-widgets/controls",
            "_view_module_version": "1.5.0",
            "_view_name": "HBoxView",
            "box_style": "",
            "children": [
              "IPY_MODEL_e5affaf1eede47c9b8de3c1103b40f9e",
              "IPY_MODEL_b3edcbd08dac4b809a05f8bd9c8b5801",
              "IPY_MODEL_3415d767baef40e582772691b0302f6a"
            ],
            "layout": "IPY_MODEL_0e2752d5a76c47b7a66f44e8e064c752"
          }
        },
        "817d7de736524859901d23fdfe70f15b": {
          "model_module": "@jupyter-widgets/controls",
          "model_module_version": "1.5.0",
          "model_name": "ProgressStyleModel",
          "state": {
            "_model_module": "@jupyter-widgets/controls",
            "_model_module_version": "1.5.0",
            "_model_name": "ProgressStyleModel",
            "_view_count": null,
            "_view_module": "@jupyter-widgets/base",
            "_view_module_version": "1.2.0",
            "_view_name": "StyleView",
            "bar_color": null,
            "description_width": ""
          }
        },
        "8e620c47a93b4ce1aa19277f6374c564": {
          "model_module": "@jupyter-widgets/controls",
          "model_module_version": "1.5.0",
          "model_name": "ProgressStyleModel",
          "state": {
            "_model_module": "@jupyter-widgets/controls",
            "_model_module_version": "1.5.0",
            "_model_name": "ProgressStyleModel",
            "_view_count": null,
            "_view_module": "@jupyter-widgets/base",
            "_view_module_version": "1.2.0",
            "_view_name": "StyleView",
            "bar_color": null,
            "description_width": ""
          }
        },
        "9168e946050540598d4fd826b7a08dec": {
          "model_module": "@jupyter-widgets/controls",
          "model_module_version": "1.5.0",
          "model_name": "DescriptionStyleModel",
          "state": {
            "_model_module": "@jupyter-widgets/controls",
            "_model_module_version": "1.5.0",
            "_model_name": "DescriptionStyleModel",
            "_view_count": null,
            "_view_module": "@jupyter-widgets/base",
            "_view_module_version": "1.2.0",
            "_view_name": "StyleView",
            "description_width": ""
          }
        },
        "91ead993d4484e5f846925c56fe1e887": {
          "model_module": "@jupyter-widgets/controls",
          "model_module_version": "1.5.0",
          "model_name": "DescriptionStyleModel",
          "state": {
            "_model_module": "@jupyter-widgets/controls",
            "_model_module_version": "1.5.0",
            "_model_name": "DescriptionStyleModel",
            "_view_count": null,
            "_view_module": "@jupyter-widgets/base",
            "_view_module_version": "1.2.0",
            "_view_name": "StyleView",
            "description_width": ""
          }
        },
        "92c98313524044a68495fba8ebaa8954": {
          "model_module": "@jupyter-widgets/base",
          "model_module_version": "1.2.0",
          "model_name": "LayoutModel",
          "state": {
            "_model_module": "@jupyter-widgets/base",
            "_model_module_version": "1.2.0",
            "_model_name": "LayoutModel",
            "_view_count": null,
            "_view_module": "@jupyter-widgets/base",
            "_view_module_version": "1.2.0",
            "_view_name": "LayoutView",
            "align_content": null,
            "align_items": null,
            "align_self": null,
            "border": null,
            "bottom": null,
            "display": null,
            "flex": null,
            "flex_flow": null,
            "grid_area": null,
            "grid_auto_columns": null,
            "grid_auto_flow": null,
            "grid_auto_rows": null,
            "grid_column": null,
            "grid_gap": null,
            "grid_row": null,
            "grid_template_areas": null,
            "grid_template_columns": null,
            "grid_template_rows": null,
            "height": null,
            "justify_content": null,
            "justify_items": null,
            "left": null,
            "margin": null,
            "max_height": null,
            "max_width": null,
            "min_height": null,
            "min_width": null,
            "object_fit": null,
            "object_position": null,
            "order": null,
            "overflow": null,
            "overflow_x": null,
            "overflow_y": null,
            "padding": null,
            "right": null,
            "top": null,
            "visibility": null,
            "width": null
          }
        },
        "93a13424eae64797a1d1aace3813f707": {
          "model_module": "@jupyter-widgets/base",
          "model_module_version": "1.2.0",
          "model_name": "LayoutModel",
          "state": {
            "_model_module": "@jupyter-widgets/base",
            "_model_module_version": "1.2.0",
            "_model_name": "LayoutModel",
            "_view_count": null,
            "_view_module": "@jupyter-widgets/base",
            "_view_module_version": "1.2.0",
            "_view_name": "LayoutView",
            "align_content": null,
            "align_items": null,
            "align_self": null,
            "border": null,
            "bottom": null,
            "display": null,
            "flex": null,
            "flex_flow": null,
            "grid_area": null,
            "grid_auto_columns": null,
            "grid_auto_flow": null,
            "grid_auto_rows": null,
            "grid_column": null,
            "grid_gap": null,
            "grid_row": null,
            "grid_template_areas": null,
            "grid_template_columns": null,
            "grid_template_rows": null,
            "height": null,
            "justify_content": null,
            "justify_items": null,
            "left": null,
            "margin": null,
            "max_height": null,
            "max_width": null,
            "min_height": null,
            "min_width": null,
            "object_fit": null,
            "object_position": null,
            "order": null,
            "overflow": null,
            "overflow_x": null,
            "overflow_y": null,
            "padding": null,
            "right": null,
            "top": null,
            "visibility": null,
            "width": null
          }
        },
        "9d12a278c00d4c778fcfbcd88c23a5ef": {
          "model_module": "@jupyter-widgets/base",
          "model_module_version": "1.2.0",
          "model_name": "LayoutModel",
          "state": {
            "_model_module": "@jupyter-widgets/base",
            "_model_module_version": "1.2.0",
            "_model_name": "LayoutModel",
            "_view_count": null,
            "_view_module": "@jupyter-widgets/base",
            "_view_module_version": "1.2.0",
            "_view_name": "LayoutView",
            "align_content": null,
            "align_items": null,
            "align_self": null,
            "border": null,
            "bottom": null,
            "display": null,
            "flex": null,
            "flex_flow": null,
            "grid_area": null,
            "grid_auto_columns": null,
            "grid_auto_flow": null,
            "grid_auto_rows": null,
            "grid_column": null,
            "grid_gap": null,
            "grid_row": null,
            "grid_template_areas": null,
            "grid_template_columns": null,
            "grid_template_rows": null,
            "height": null,
            "justify_content": null,
            "justify_items": null,
            "left": null,
            "margin": null,
            "max_height": null,
            "max_width": null,
            "min_height": null,
            "min_width": null,
            "object_fit": null,
            "object_position": null,
            "order": null,
            "overflow": null,
            "overflow_x": null,
            "overflow_y": null,
            "padding": null,
            "right": null,
            "top": null,
            "visibility": null,
            "width": null
          }
        },
        "9e8edb80089543f5a1631f9ab87b02b6": {
          "model_module": "@jupyter-widgets/base",
          "model_module_version": "1.2.0",
          "model_name": "LayoutModel",
          "state": {
            "_model_module": "@jupyter-widgets/base",
            "_model_module_version": "1.2.0",
            "_model_name": "LayoutModel",
            "_view_count": null,
            "_view_module": "@jupyter-widgets/base",
            "_view_module_version": "1.2.0",
            "_view_name": "LayoutView",
            "align_content": null,
            "align_items": null,
            "align_self": null,
            "border": null,
            "bottom": null,
            "display": null,
            "flex": null,
            "flex_flow": null,
            "grid_area": null,
            "grid_auto_columns": null,
            "grid_auto_flow": null,
            "grid_auto_rows": null,
            "grid_column": null,
            "grid_gap": null,
            "grid_row": null,
            "grid_template_areas": null,
            "grid_template_columns": null,
            "grid_template_rows": null,
            "height": null,
            "justify_content": null,
            "justify_items": null,
            "left": null,
            "margin": null,
            "max_height": null,
            "max_width": null,
            "min_height": null,
            "min_width": null,
            "object_fit": null,
            "object_position": null,
            "order": null,
            "overflow": null,
            "overflow_x": null,
            "overflow_y": null,
            "padding": null,
            "right": null,
            "top": null,
            "visibility": null,
            "width": null
          }
        },
        "a87353d45bdf4a10a8d12185daa986e9": {
          "model_module": "@jupyter-widgets/controls",
          "model_module_version": "1.5.0",
          "model_name": "DescriptionStyleModel",
          "state": {
            "_model_module": "@jupyter-widgets/controls",
            "_model_module_version": "1.5.0",
            "_model_name": "DescriptionStyleModel",
            "_view_count": null,
            "_view_module": "@jupyter-widgets/base",
            "_view_module_version": "1.2.0",
            "_view_name": "StyleView",
            "description_width": ""
          }
        },
        "af3e55b572ac4309a17d573c1b6434c5": {
          "model_module": "@jupyter-widgets/controls",
          "model_module_version": "1.5.0",
          "model_name": "HTMLModel",
          "state": {
            "_dom_classes": [],
            "_model_module": "@jupyter-widgets/controls",
            "_model_module_version": "1.5.0",
            "_model_name": "HTMLModel",
            "_view_count": null,
            "_view_module": "@jupyter-widgets/controls",
            "_view_module_version": "1.5.0",
            "_view_name": "HTMLView",
            "description": "",
            "description_tooltip": null,
            "layout": "IPY_MODEL_5fe2bc2fbd704e64b0363931a7d80180",
            "placeholder": "​",
            "style": "IPY_MODEL_91ead993d4484e5f846925c56fe1e887",
            "value": " 29696/? [00:00&lt;00:00, 7523.97it/s]"
          }
        },
        "b3edcbd08dac4b809a05f8bd9c8b5801": {
          "model_module": "@jupyter-widgets/controls",
          "model_module_version": "1.5.0",
          "model_name": "FloatProgressModel",
          "state": {
            "_dom_classes": [],
            "_model_module": "@jupyter-widgets/controls",
            "_model_module_version": "1.5.0",
            "_model_name": "FloatProgressModel",
            "_view_count": null,
            "_view_module": "@jupyter-widgets/controls",
            "_view_module_version": "1.5.0",
            "_view_name": "ProgressView",
            "bar_style": "success",
            "description": "",
            "description_tooltip": null,
            "layout": "IPY_MODEL_9d12a278c00d4c778fcfbcd88c23a5ef",
            "max": 26421880,
            "min": 0,
            "orientation": "horizontal",
            "style": "IPY_MODEL_8e620c47a93b4ce1aa19277f6374c564",
            "value": 26421880
          }
        },
        "bd0b44fd41d4404da197fbbc0c4defe6": {
          "model_module": "@jupyter-widgets/base",
          "model_module_version": "1.2.0",
          "model_name": "LayoutModel",
          "state": {
            "_model_module": "@jupyter-widgets/base",
            "_model_module_version": "1.2.0",
            "_model_name": "LayoutModel",
            "_view_count": null,
            "_view_module": "@jupyter-widgets/base",
            "_view_module_version": "1.2.0",
            "_view_name": "LayoutView",
            "align_content": null,
            "align_items": null,
            "align_self": null,
            "border": null,
            "bottom": null,
            "display": null,
            "flex": null,
            "flex_flow": null,
            "grid_area": null,
            "grid_auto_columns": null,
            "grid_auto_flow": null,
            "grid_auto_rows": null,
            "grid_column": null,
            "grid_gap": null,
            "grid_row": null,
            "grid_template_areas": null,
            "grid_template_columns": null,
            "grid_template_rows": null,
            "height": null,
            "justify_content": null,
            "justify_items": null,
            "left": null,
            "margin": null,
            "max_height": null,
            "max_width": null,
            "min_height": null,
            "min_width": null,
            "object_fit": null,
            "object_position": null,
            "order": null,
            "overflow": null,
            "overflow_x": null,
            "overflow_y": null,
            "padding": null,
            "right": null,
            "top": null,
            "visibility": null,
            "width": null
          }
        },
        "c99c7988846845ceb25f8c350a26c3e6": {
          "model_module": "@jupyter-widgets/controls",
          "model_module_version": "1.5.0",
          "model_name": "HTMLModel",
          "state": {
            "_dom_classes": [],
            "_model_module": "@jupyter-widgets/controls",
            "_model_module_version": "1.5.0",
            "_model_name": "HTMLModel",
            "_view_count": null,
            "_view_module": "@jupyter-widgets/controls",
            "_view_module_version": "1.5.0",
            "_view_name": "HTMLView",
            "description": "",
            "description_tooltip": null,
            "layout": "IPY_MODEL_0232fb3143754b5597f7163538471b74",
            "placeholder": "​",
            "style": "IPY_MODEL_0524c9314f1f4633b2ee8cbbc8f3bf71",
            "value": ""
          }
        },
        "d0a99c8a603c4274a71881b184678da2": {
          "model_module": "@jupyter-widgets/base",
          "model_module_version": "1.2.0",
          "model_name": "LayoutModel",
          "state": {
            "_model_module": "@jupyter-widgets/base",
            "_model_module_version": "1.2.0",
            "_model_name": "LayoutModel",
            "_view_count": null,
            "_view_module": "@jupyter-widgets/base",
            "_view_module_version": "1.2.0",
            "_view_name": "LayoutView",
            "align_content": null,
            "align_items": null,
            "align_self": null,
            "border": null,
            "bottom": null,
            "display": null,
            "flex": null,
            "flex_flow": null,
            "grid_area": null,
            "grid_auto_columns": null,
            "grid_auto_flow": null,
            "grid_auto_rows": null,
            "grid_column": null,
            "grid_gap": null,
            "grid_row": null,
            "grid_template_areas": null,
            "grid_template_columns": null,
            "grid_template_rows": null,
            "height": null,
            "justify_content": null,
            "justify_items": null,
            "left": null,
            "margin": null,
            "max_height": null,
            "max_width": null,
            "min_height": null,
            "min_width": null,
            "object_fit": null,
            "object_position": null,
            "order": null,
            "overflow": null,
            "overflow_x": null,
            "overflow_y": null,
            "padding": null,
            "right": null,
            "top": null,
            "visibility": null,
            "width": null
          }
        },
        "d8feac653a364dcca78397a0085468b1": {
          "model_module": "@jupyter-widgets/base",
          "model_module_version": "1.2.0",
          "model_name": "LayoutModel",
          "state": {
            "_model_module": "@jupyter-widgets/base",
            "_model_module_version": "1.2.0",
            "_model_name": "LayoutModel",
            "_view_count": null,
            "_view_module": "@jupyter-widgets/base",
            "_view_module_version": "1.2.0",
            "_view_name": "LayoutView",
            "align_content": null,
            "align_items": null,
            "align_self": null,
            "border": null,
            "bottom": null,
            "display": null,
            "flex": null,
            "flex_flow": null,
            "grid_area": null,
            "grid_auto_columns": null,
            "grid_auto_flow": null,
            "grid_auto_rows": null,
            "grid_column": null,
            "grid_gap": null,
            "grid_row": null,
            "grid_template_areas": null,
            "grid_template_columns": null,
            "grid_template_rows": null,
            "height": null,
            "justify_content": null,
            "justify_items": null,
            "left": null,
            "margin": null,
            "max_height": null,
            "max_width": null,
            "min_height": null,
            "min_width": null,
            "object_fit": null,
            "object_position": null,
            "order": null,
            "overflow": null,
            "overflow_x": null,
            "overflow_y": null,
            "padding": null,
            "right": null,
            "top": null,
            "visibility": null,
            "width": null
          }
        },
        "e1c6baa4c33d4c27a229c361d8ab9a82": {
          "model_module": "@jupyter-widgets/base",
          "model_module_version": "1.2.0",
          "model_name": "LayoutModel",
          "state": {
            "_model_module": "@jupyter-widgets/base",
            "_model_module_version": "1.2.0",
            "_model_name": "LayoutModel",
            "_view_count": null,
            "_view_module": "@jupyter-widgets/base",
            "_view_module_version": "1.2.0",
            "_view_name": "LayoutView",
            "align_content": null,
            "align_items": null,
            "align_self": null,
            "border": null,
            "bottom": null,
            "display": null,
            "flex": null,
            "flex_flow": null,
            "grid_area": null,
            "grid_auto_columns": null,
            "grid_auto_flow": null,
            "grid_auto_rows": null,
            "grid_column": null,
            "grid_gap": null,
            "grid_row": null,
            "grid_template_areas": null,
            "grid_template_columns": null,
            "grid_template_rows": null,
            "height": null,
            "justify_content": null,
            "justify_items": null,
            "left": null,
            "margin": null,
            "max_height": null,
            "max_width": null,
            "min_height": null,
            "min_width": null,
            "object_fit": null,
            "object_position": null,
            "order": null,
            "overflow": null,
            "overflow_x": null,
            "overflow_y": null,
            "padding": null,
            "right": null,
            "top": null,
            "visibility": null,
            "width": null
          }
        },
        "e5affaf1eede47c9b8de3c1103b40f9e": {
          "model_module": "@jupyter-widgets/controls",
          "model_module_version": "1.5.0",
          "model_name": "HTMLModel",
          "state": {
            "_dom_classes": [],
            "_model_module": "@jupyter-widgets/controls",
            "_model_module_version": "1.5.0",
            "_model_name": "HTMLModel",
            "_view_count": null,
            "_view_module": "@jupyter-widgets/controls",
            "_view_module_version": "1.5.0",
            "_view_name": "HTMLView",
            "description": "",
            "description_tooltip": null,
            "layout": "IPY_MODEL_93a13424eae64797a1d1aace3813f707",
            "placeholder": "​",
            "style": "IPY_MODEL_fa114246d27140079ca97c3308dfc8de",
            "value": ""
          }
        },
        "eaa7564267894094a4df642b3a449a6b": {
          "model_module": "@jupyter-widgets/base",
          "model_module_version": "1.2.0",
          "model_name": "LayoutModel",
          "state": {
            "_model_module": "@jupyter-widgets/base",
            "_model_module_version": "1.2.0",
            "_model_name": "LayoutModel",
            "_view_count": null,
            "_view_module": "@jupyter-widgets/base",
            "_view_module_version": "1.2.0",
            "_view_name": "LayoutView",
            "align_content": null,
            "align_items": null,
            "align_self": null,
            "border": null,
            "bottom": null,
            "display": null,
            "flex": null,
            "flex_flow": null,
            "grid_area": null,
            "grid_auto_columns": null,
            "grid_auto_flow": null,
            "grid_auto_rows": null,
            "grid_column": null,
            "grid_gap": null,
            "grid_row": null,
            "grid_template_areas": null,
            "grid_template_columns": null,
            "grid_template_rows": null,
            "height": null,
            "justify_content": null,
            "justify_items": null,
            "left": null,
            "margin": null,
            "max_height": null,
            "max_width": null,
            "min_height": null,
            "min_width": null,
            "object_fit": null,
            "object_position": null,
            "order": null,
            "overflow": null,
            "overflow_x": null,
            "overflow_y": null,
            "padding": null,
            "right": null,
            "top": null,
            "visibility": null,
            "width": null
          }
        },
        "eb960686f4234f798592135cdefd6e39": {
          "model_module": "@jupyter-widgets/controls",
          "model_module_version": "1.5.0",
          "model_name": "HTMLModel",
          "state": {
            "_dom_classes": [],
            "_model_module": "@jupyter-widgets/controls",
            "_model_module_version": "1.5.0",
            "_model_name": "HTMLModel",
            "_view_count": null,
            "_view_module": "@jupyter-widgets/controls",
            "_view_module_version": "1.5.0",
            "_view_name": "HTMLView",
            "description": "",
            "description_tooltip": null,
            "layout": "IPY_MODEL_9e8edb80089543f5a1631f9ab87b02b6",
            "placeholder": "​",
            "style": "IPY_MODEL_a87353d45bdf4a10a8d12185daa986e9",
            "value": ""
          }
        },
        "ec2c281e90234b289c53913d2d267ef0": {
          "model_module": "@jupyter-widgets/controls",
          "model_module_version": "1.5.0",
          "model_name": "FloatProgressModel",
          "state": {
            "_dom_classes": [],
            "_model_module": "@jupyter-widgets/controls",
            "_model_module_version": "1.5.0",
            "_model_name": "FloatProgressModel",
            "_view_count": null,
            "_view_module": "@jupyter-widgets/controls",
            "_view_module_version": "1.5.0",
            "_view_name": "ProgressView",
            "bar_style": "success",
            "description": "",
            "description_tooltip": null,
            "layout": "IPY_MODEL_eaa7564267894094a4df642b3a449a6b",
            "max": 29515,
            "min": 0,
            "orientation": "horizontal",
            "style": "IPY_MODEL_817d7de736524859901d23fdfe70f15b",
            "value": 29515
          }
        },
        "f3f5e26dc60d42359c472dd67094b515": {
          "model_module": "@jupyter-widgets/controls",
          "model_module_version": "1.5.0",
          "model_name": "HBoxModel",
          "state": {
            "_dom_classes": [],
            "_model_module": "@jupyter-widgets/controls",
            "_model_module_version": "1.5.0",
            "_model_name": "HBoxModel",
            "_view_count": null,
            "_view_module": "@jupyter-widgets/controls",
            "_view_module_version": "1.5.0",
            "_view_name": "HBoxView",
            "box_style": "",
            "children": [
              "IPY_MODEL_eb960686f4234f798592135cdefd6e39",
              "IPY_MODEL_ec2c281e90234b289c53913d2d267ef0",
              "IPY_MODEL_af3e55b572ac4309a17d573c1b6434c5"
            ],
            "layout": "IPY_MODEL_421e8b0177144a49865bd0de3f348721"
          }
        },
        "fa114246d27140079ca97c3308dfc8de": {
          "model_module": "@jupyter-widgets/controls",
          "model_module_version": "1.5.0",
          "model_name": "DescriptionStyleModel",
          "state": {
            "_model_module": "@jupyter-widgets/controls",
            "_model_module_version": "1.5.0",
            "_model_name": "DescriptionStyleModel",
            "_view_count": null,
            "_view_module": "@jupyter-widgets/base",
            "_view_module_version": "1.2.0",
            "_view_name": "StyleView",
            "description_width": ""
          }
        },
        "fd3478e172c44a83acef6cb1e1ec9c9d": {
          "model_module": "@jupyter-widgets/controls",
          "model_module_version": "1.5.0",
          "model_name": "DescriptionStyleModel",
          "state": {
            "_model_module": "@jupyter-widgets/controls",
            "_model_module_version": "1.5.0",
            "_model_name": "DescriptionStyleModel",
            "_view_count": null,
            "_view_module": "@jupyter-widgets/base",
            "_view_module_version": "1.2.0",
            "_view_name": "StyleView",
            "description_width": ""
          }
        },
        "ff7c61e5360b4992ba25cdae8de7ee58": {
          "model_module": "@jupyter-widgets/controls",
          "model_module_version": "1.5.0",
          "model_name": "HTMLModel",
          "state": {
            "_dom_classes": [],
            "_model_module": "@jupyter-widgets/controls",
            "_model_module_version": "1.5.0",
            "_model_name": "HTMLModel",
            "_view_count": null,
            "_view_module": "@jupyter-widgets/controls",
            "_view_module_version": "1.5.0",
            "_view_name": "HTMLView",
            "description": "",
            "description_tooltip": null,
            "layout": "IPY_MODEL_755aec4b7d80447d9602c0b81a586917",
            "placeholder": "​",
            "style": "IPY_MODEL_fd3478e172c44a83acef6cb1e1ec9c9d",
            "value": " 4422656/? [00:00&lt;00:00, 13291618.67it/s]"
          }
        }
      }
    }
  },
  "nbformat": 4,
  "nbformat_minor": 0
}
