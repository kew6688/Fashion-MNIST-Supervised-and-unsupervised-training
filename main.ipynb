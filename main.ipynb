{
 "cells": [
  {
   "cell_type": "code",
   "execution_count": 1,
   "metadata": {},
   "outputs": [],
   "source": [
    "from mylibs.dataloader import getDataLoaders\n",
    "from mylibs.train import train\n",
    "from mylibs.eval import validate\n",
    "from mylibs.model import Net\n",
    "from mylibs.loss import loss_function\n",
    "\n",
    "import torch\n",
    "from torchvision import transforms"
   ]
  },
  {
   "cell_type": "code",
   "execution_count": 2,
   "metadata": {},
   "outputs": [],
   "source": [
    "USE_GPU = False\n",
    "TRAIN_BATCH_SIZE = 32\n",
    "TEST_BATCH_SIZE = 1\n",
    "EPOCH = 2\n",
    "NUM_WORKERS = 4\n",
    "K = 7"
   ]
  },
  {
   "cell_type": "code",
   "execution_count": 3,
   "metadata": {},
   "outputs": [],
   "source": [
    "device = torch.device(\"cuda\" if USE_GPU else \"cpu\")\n",
    "\n",
    "transform = transforms.Compose([\n",
    "    transforms.ToTensor()\n",
    "])\n",
    "train_data_loader, test_data_loader = getDataLoaders(include_labels=range(K), transform=transform, train_batch_size=TRAIN_BATCH_SIZE, test_batch_size=TEST_BATCH_SIZE, num_workers=NUM_WORKERS, use_unlabeled=False)"
   ]
  },
  {
   "cell_type": "code",
   "execution_count": 4,
   "metadata": {},
   "outputs": [
    {
     "name": "stdout",
     "output_type": "stream",
     "text": [
      "Epoch: 1 Loss: 0.015772383321608817\n"
     ]
    }
   ],
   "source": [
    "model = Net().to(device)\n",
    "optimizer = torch.optim.Adadelta(model.parameters(), lr=0.01)\n",
    "\n",
    "# scheduler = StepLR(optimizer, step_size=1, gamma=args.gamma)\n",
    "for epoch in range(1, EPOCH+1):\n",
    "    loss = train(train_data_loader, model, loss_function, optimizer, USE_GPU)\n",
    "    print(\"Epoch: {} Loss: {}\".format(epoch, loss))"
   ]
  },
  {
   "cell_type": "code",
   "execution_count": 5,
   "metadata": {},
   "outputs": [
    {
     "name": "stdout",
     "output_type": "stream",
     "text": [
      "Loss over test dataset: 0.45216789841651917\n"
     ]
    }
   ],
   "source": [
    "model.eval()\n",
    "print(\"Loss over test dataset: {}\".format(validate(test_data_loader, model, loss_function, USE_GPU)))"
   ]
  },
  {
   "cell_type": "code",
   "execution_count": null,
   "metadata": {},
   "outputs": [],
   "source": []
  }
 ],
 "metadata": {
  "interpreter": {
   "hash": "aee8b7b246df8f9039afb4144a1f6fd8d2ca17a180786b69acc140d282b71a49"
  },
  "kernelspec": {
   "display_name": "Python 3 (ipykernel)",
   "language": "python",
   "name": "python3"
  },
  "language_info": {
   "codemirror_mode": {
    "name": "ipython",
    "version": 3
   },
   "file_extension": ".py",
   "mimetype": "text/x-python",
   "name": "python",
   "nbconvert_exporter": "python",
   "pygments_lexer": "ipython3",
   "version": "3.9.4"
  }
 },
 "nbformat": 4,
 "nbformat_minor": 2
}
